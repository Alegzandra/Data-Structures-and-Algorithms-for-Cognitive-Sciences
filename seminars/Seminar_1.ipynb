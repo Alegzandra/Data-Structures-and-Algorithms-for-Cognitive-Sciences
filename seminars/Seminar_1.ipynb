{
  "nbformat": 4,
  "nbformat_minor": 0,
  "metadata": {
    "colab": {
      "name": "Seminar_1.ipynb",
      "provenance": [],
      "collapsed_sections": [
        "xBdfF1DdNLiy",
        "X3Ln2E-ihwQf",
        "FbloEba1iowx",
        "fXmeQN4rkYhp"
      ]
    },
    "kernelspec": {
      "name": "python3",
      "display_name": "Python 3"
    },
    "language_info": {
      "name": "python"
    }
  },
  "cells": [
    {
      "cell_type": "markdown",
      "source": [
        "# Seminar 1. Python Data Structures"
      ],
      "metadata": {
        "id": "DjXTvfOnWGZf"
      }
    },
    {
      "cell_type": "markdown",
      "source": [
        "## Numeric types\n",
        "Let's remember integers and floats."
      ],
      "metadata": {
        "id": "Szhv3Q7U3-hv"
      }
    },
    {
      "cell_type": "markdown",
      "source": [
        "Operator (=) assigns a value to a variable."
      ],
      "metadata": {
        "id": "jcvqRd2U8Ja2"
      }
    },
    {
      "cell_type": "code",
      "source": [
        "a=4\n",
        "b=5\n",
        "print(a, \"is of type\", type(a))\n"
      ],
      "metadata": {
        "id": "gJojcJJD4k-D"
      },
      "execution_count": null,
      "outputs": []
    },
    {
      "cell_type": "code",
      "source": [
        "print(a + b)\n",
        "print(4 + 5)"
      ],
      "metadata": {
        "id": "agf1XDZb40dz"
      },
      "execution_count": null,
      "outputs": []
    },
    {
      "cell_type": "code",
      "source": [
        "print(a - a*b)\n",
        "print(25 - 3*6)"
      ],
      "metadata": {
        "id": "665tOdO-425F"
      },
      "execution_count": null,
      "outputs": []
    },
    {
      "cell_type": "code",
      "source": [
        "print((20 - 3*7) / 2)\n",
        "print(9/5)"
      ],
      "metadata": {
        "id": "8HSuv3F74581"
      },
      "execution_count": null,
      "outputs": []
    },
    {
      "cell_type": "markdown",
      "source": [
        "Division of two integers returns a floating point number."
      ],
      "metadata": {
        "id": "IMTORmkb4_Qc"
      }
    },
    {
      "cell_type": "code",
      "source": [
        "c= b/a  # division returns a floating point number\n",
        "print(c, \"is of type\", type(c))\n",
        "\n",
        "print(c)   # No need to explicitly declare the datatype"
      ],
      "metadata": {
        "id": "BfSxEhx05DFU"
      },
      "execution_count": null,
      "outputs": []
    },
    {
      "cell_type": "markdown",
      "source": [
        "Getting the whole part of a number using \\\\\\ operator"
      ],
      "metadata": {
        "id": "KMaI9O0c8nl7"
      }
    },
    {
      "cell_type": "code",
      "source": [
        "a=4\n",
        "b=5   \n",
        "d= b//a\n",
        "print(d)\n",
        "print(d, \"is of type\", type(d))"
      ],
      "metadata": {
        "id": "zzUVntVC5RIE"
      },
      "execution_count": null,
      "outputs": []
    },
    {
      "cell_type": "markdown",
      "source": [
        "Getting the remainder using modulo (%) operator"
      ],
      "metadata": {
        "id": "P22t-RM380Xj"
      }
    },
    {
      "cell_type": "code",
      "source": [
        "a=4\n",
        "b=6   \n",
        "d= b%a\n",
        "print(d)\n",
        "print(d, \"is of type\", type(d))"
      ],
      "metadata": {
        "id": "3zT6xodx84yJ"
      },
      "execution_count": null,
      "outputs": []
    },
    {
      "cell_type": "markdown",
      "source": [
        "Let's remember power operator:"
      ],
      "metadata": {
        "id": "s5hhVpmD5Wmn"
      }
    },
    {
      "cell_type": "code",
      "source": [
        "a=7\n",
        "b=5   \n",
        "e= b**a \n",
        "print(\"power is \", e)"
      ],
      "metadata": {
        "id": "4BS4yy4F5Zes"
      },
      "execution_count": null,
      "outputs": []
    },
    {
      "cell_type": "markdown",
      "source": [
        "Complex numbers have a real part and an imaginary part."
      ],
      "metadata": {
        "id": "mqtXs-5g5GRc"
      }
    },
    {
      "cell_type": "code",
      "source": [
        "f=3+5j\n",
        "print(f, \"is of type\", type(f))\n",
        "print(\"real part is\", f.real)\n",
        "print(\"imaginary part is\", f.imag)"
      ],
      "metadata": {
        "id": "AK4eImXt4-ko"
      },
      "execution_count": null,
      "outputs": []
    },
    {
      "cell_type": "markdown",
      "source": [
        "We can do some operations with complex numbers:"
      ],
      "metadata": {
        "id": "zPzkTDcs5eSq"
      }
    },
    {
      "cell_type": "code",
      "source": [
        "print(f*2)   # multiplication\n",
        "print(f+3)  # addition\n",
        "print(f -1)  # subtraction"
      ],
      "metadata": {
        "id": "EyPUZapS5kjF"
      },
      "execution_count": null,
      "outputs": []
    },
    {
      "cell_type": "markdown",
      "source": [
        "Booleans can be considered numeric types if 1 would mean True and 0 would mean False."
      ],
      "metadata": {
        "id": "Z27SUWeL5op7"
      }
    },
    {
      "cell_type": "code",
      "source": [
        "print(bool(2))\n",
        "print(bool(-2))\n",
        "print(bool(0))"
      ],
      "metadata": {
        "id": "AWnAdKO55vK8"
      },
      "execution_count": null,
      "outputs": []
    },
    {
      "cell_type": "code",
      "source": [
        "See_boolean = (4 * 3 > 10) and (6 + 5 >= 11)\n",
        "print(See_boolean)\n",
        "\n",
        "if (See_boolean):\n",
        "    print(\"Boolean expression returned True\")\n",
        "else:\n",
        "    print(\"boolean expression returned False\")"
      ],
      "metadata": {
        "id": "EdKUAFYD52A-"
      },
      "execution_count": null,
      "outputs": []
    },
    {
      "cell_type": "markdown",
      "source": [
        "## Sequence types\n",
        "Lists. Arrays are lists containing only one data type (cannot be mixed)."
      ],
      "metadata": {
        "id": "PwA0TUSD6B-C"
      }
    },
    {
      "cell_type": "code",
      "source": [
        "list0 = list()   # an empty list   \n",
        "list1 = [1,2,3,4]\n",
        "list1.append(1)\n",
        "print(\"list1 \",list1)"
      ],
      "metadata": {
        "id": "2uEZ0yhy8-uf"
      },
      "execution_count": null,
      "outputs": []
    },
    {
      "cell_type": "markdown",
      "source": [
        "Multiplication with an integer:"
      ],
      "metadata": {
        "id": "i2oRcdmW_NFj"
      }
    },
    {
      "cell_type": "code",
      "source": [
        "list2 = list1 * 2\n",
        "print(list2)"
      ],
      "metadata": {
        "id": "ZRdR6NOn9EXk"
      },
      "execution_count": null,
      "outputs": []
    },
    {
      "cell_type": "markdown",
      "source": [
        "Get the maximum and the minimum in a list:"
      ],
      "metadata": {
        "id": "OW-HYM9b_URs"
      }
    },
    {
      "cell_type": "code",
      "source": [
        "print(\"minimum in list 1 is \",min(list1))\n",
        "print(\"maximum in list 1 is\", max(list1))"
      ],
      "metadata": {
        "id": "RAZLvhk79SG5"
      },
      "execution_count": null,
      "outputs": []
    },
    {
      "cell_type": "markdown",
      "source": [
        "Insert a value of 2 at index 0:"
      ],
      "metadata": {
        "id": "V3-bCMfy9aHH"
      }
    },
    {
      "cell_type": "code",
      "source": [
        "list1.insert(0,2) \n",
        "print(\"updated list 1 is \", list1)"
      ],
      "metadata": {
        "id": "7PPjc9yy9VP3"
      },
      "execution_count": null,
      "outputs": []
    },
    {
      "cell_type": "markdown",
      "source": [
        "Reverse a list:"
      ],
      "metadata": {
        "id": "Mjq5x4VM_Zhi"
      }
    },
    {
      "cell_type": "code",
      "source": [
        "list1.reverse()\n",
        "print(\"reversed list 1 is \", list1)"
      ],
      "metadata": {
        "id": "PYiWwTdI9fx_"
      },
      "execution_count": null,
      "outputs": []
    },
    {
      "cell_type": "markdown",
      "source": [
        "Extend a list:"
      ],
      "metadata": {
        "id": "Kt5LXFuk9icH"
      }
    },
    {
      "cell_type": "code",
      "source": [
        "list2 = [11,12]\n",
        "list1.extend(list2)\n",
        "print(\"updated list 1 is\", list1)"
      ],
      "metadata": {
        "id": "0NsQJX009j50"
      },
      "execution_count": null,
      "outputs": []
    },
    {
      "cell_type": "markdown",
      "source": [
        "The length and the sum of all elements in a list:"
      ],
      "metadata": {
        "id": "UZ3PWvGh_stt"
      }
    },
    {
      "cell_type": "code",
      "source": [
        "print(\"sum of all the elements in list1 is\", sum(list1))\n",
        "print(\"length of list 1 is \", len(list1))"
      ],
      "metadata": {
        "id": "fhPhgCxd9o1i"
      },
      "execution_count": null,
      "outputs": []
    },
    {
      "cell_type": "markdown",
      "source": [
        "Sorting a list:"
      ],
      "metadata": {
        "id": "nFyGccc-_zZE"
      }
    },
    {
      "cell_type": "code",
      "source": [
        "list1.sort()\n",
        "print(\"sorted list 1 is\", list1)"
      ],
      "metadata": {
        "id": "sfkWnIxW9rrT"
      },
      "execution_count": null,
      "outputs": []
    },
    {
      "cell_type": "markdown",
      "source": [
        "Removing elements from a list:"
      ],
      "metadata": {
        "id": "qvoh-DW1_1Yi"
      }
    },
    {
      "cell_type": "code",
      "source": [
        "list1.remove(12)   #remove value 12 form the list\n",
        "print(\"list 1 after removal of element 12 is \", list1)"
      ],
      "metadata": {
        "id": "DhqrR11d9tO_"
      },
      "execution_count": null,
      "outputs": []
    },
    {
      "cell_type": "markdown",
      "source": [
        "## Dictionaries for text analysis\n",
        "An example of using dictionaries is to count the occurrences of items in a sequence; a typical example is counting the occurrences of words in a body of text. The following code creates a dictionary where each word in the text is used as a key and the number of occurrences as its value. This uses a very common idiom of nested loops. Here we are using it to traverse the lines in a file in an outer loop and the keys of a dictionary on the inner loop:"
      ],
      "metadata": {
        "id": "kUp_EpOfWSyP"
      }
    },
    {
      "cell_type": "code",
      "execution_count": null,
      "metadata": {
        "id": "JCMYjPSmWFex"
      },
      "outputs": [],
      "source": [
        "def wordcount(fname):\n",
        "  fhand=open(fname, 'r')\n",
        "  # we initialize the counting dictionary\n",
        "  count = dict() \n",
        "  for line in fhand:\n",
        "     words = line.split()\n",
        "     for word in words:\n",
        "       if word not in count:\n",
        "         count[word] = 1\n",
        "       else:\n",
        "         count[word] += 1\n",
        "  fhand.close()\n",
        "  return(count)"
      ]
    },
    {
      "cell_type": "markdown",
      "source": [
        "This will return a dictionary with an element for each unique word in the text file. \n",
        "\n",
        "Note the use of the dictionary comprehension used to construct the filtered dictionary.\n",
        "\n",
        "In the following code, we create another dictionary, filtered, containing a subset of items from count:"
      ],
      "metadata": {
        "id": "e9l99zkedSCE"
      }
    },
    {
      "cell_type": "code",
      "source": [
        "count=wordcount('alice.txt') \n",
        "filtered={key:value for key, value in count.items() if value <100 and value>1 }\n",
        "print(filtered)"
      ],
      "metadata": {
        "id": "6nI0hoJfebs8"
      },
      "execution_count": null,
      "outputs": []
    },
    {
      "cell_type": "markdown",
      "source": [
        "## ChainMaps\n",
        "A ChainMap is a data structure provided by the Python standard library that allows you to treat multiple dictionaries as one.\n",
        "\n",
        "A ChainMap groups multiple dicts or other mappings together to create a single, updateable view."
      ],
      "metadata": {
        "id": "zC35Nj5xFhET"
      }
    },
    {
      "cell_type": "code",
      "source": [
        "from collections import ChainMap\n",
        "dict1= {'a':1, 'b':2, 'c':3}\n",
        "dict2 = {'d':4, 'e':5}\n",
        "chainmap = ChainMap(dict1, dict2)  # linking two dictionaries\n",
        "print(\"print the two linked dictionaries: \")\n",
        "print(chainmap)"
      ],
      "metadata": {
        "id": "M9MHcR97H0bD"
      },
      "execution_count": null,
      "outputs": []
    },
    {
      "cell_type": "code",
      "source": [
        "print(\"print maps for chainmap\", str(chainmap.maps))\n",
        "print(\"print keys for chainmap\", str(list(chainmap.keys())))\n",
        "print(\"print values for chainmap\", str(list(chainmap.values())))"
      ],
      "metadata": {
        "id": "Trx5l7DLIArQ"
      },
      "execution_count": null,
      "outputs": []
    },
    {
      "cell_type": "markdown",
      "source": [
        "Accessing specific values in chainmap:"
      ],
      "metadata": {
        "id": "76gUDK0yIDeW"
      }
    },
    {
      "cell_type": "code",
      "source": [
        "print(\"the value for key 'b' is \", chainmap['b'])\n",
        "print(\"the value for key 'e' is \", chainmap['e'])"
      ],
      "metadata": {
        "id": "MLgLjACJIFg9"
      },
      "execution_count": null,
      "outputs": []
    },
    {
      "cell_type": "markdown",
      "source": [
        "\n",
        "Creating a ChainMap child with the new_child() method, which is used to add another dictionary object to the ChainMap, at the beginning.\n",
        "\n",
        "If we have the defaults dictionary:"
      ],
      "metadata": {
        "id": "birbvR0wILLz"
      }
    },
    {
      "cell_type": "code",
      "source": [
        "defaults = {'theme':'Default','language':'eng','showIndex':True, 'showFooter':True}\n",
        "cm = ChainMap(defaults)  \n",
        "print(\"print maps for chainmap\", cm.maps)\n",
        "print(\"print keys for chainmap\", str(list(cm.keys())))\n",
        "print(\"print values for chainmap\", str(list(cm.values())))"
      ],
      "metadata": {
        "id": "swySAnwWFqog"
      },
      "execution_count": null,
      "outputs": []
    },
    {
      "cell_type": "markdown",
      "source": [
        "To create a child of the default chainMap:"
      ],
      "metadata": {
        "id": "WgZFN-mpGt0i"
      }
    },
    {
      "cell_type": "code",
      "source": [
        "cm2 = cm.new_child({'theme':'bluesky'})\n",
        "print(cm2)"
      ],
      "metadata": {
        "id": "5fn07hISG2q_"
      },
      "execution_count": null,
      "outputs": []
    },
    {
      "cell_type": "code",
      "source": [
        "print(\"print value for the value theme is \", cm2['theme']) \n",
        "print(\"print value for the initial value theme \", cm['theme']) \n"
      ],
      "metadata": {
        "id": "MBjrxrKjHdHz"
      },
      "execution_count": null,
      "outputs": []
    },
    {
      "cell_type": "markdown",
      "source": [
        "We ca pop out the new value:"
      ],
      "metadata": {
        "id": "vDkzgmsWEKIk"
      }
    },
    {
      "cell_type": "code",
      "source": [
        "print(\"print the entry for 'theme' key \", cm2.pop('theme'))  \n",
        "print(\"print updated chainmap \", cm2['theme'])"
      ],
      "metadata": {
        "id": "F_0MJUcpEM8A"
      },
      "execution_count": null,
      "outputs": []
    },
    {
      "cell_type": "code",
      "source": [
        "print(cm2)"
      ],
      "metadata": {
        "id": "cX_JfAI_ETXW"
      },
      "execution_count": null,
      "outputs": []
    },
    {
      "cell_type": "markdown",
      "source": [
        "## Counter objects\n",
        "Python Counter is a container that will hold the count of each of the elements present in the container.\n",
        "\n",
        "Counter is a subclass of a dictionary where each dictionary key is a hashable object and the associated value is an integer count of that object. \n",
        "\n",
        "There are three ways to initialize a\n",
        "counter. We can pass it any sequence object, a dictionary of key:value pairs, or a tuple of\n",
        "the format (object=value,...), as in the following example:"
      ],
      "metadata": {
        "id": "qEJM9EztjieM"
      }
    },
    {
      "cell_type": "code",
      "source": [
        "from collections import Counter\n",
        "\n",
        "c1 = Counter('anysequence') # can be a list as well\n",
        "c2= Counter({'a':1, 'c': 1, 'e':3})\n",
        "c3= Counter(a=1, c= 1, e=3)\n",
        "print(\"print counter 1 is \",c1)\n",
        "print(\"print counter 2 is \",c2)\n",
        "print(\"print counter 3 is \",c3)"
      ],
      "metadata": {
        "id": "P_5yUZqcj2QB"
      },
      "execution_count": null,
      "outputs": []
    },
    {
      "cell_type": "markdown",
      "source": [
        "We can populate the Counter with the update method:"
      ],
      "metadata": {
        "id": "9mDn9leGGfWx"
      }
    },
    {
      "cell_type": "code",
      "source": [
        "ct = Counter()  # creates an empty counter object\n",
        "print(\"print an empty counter----\",ct)\n",
        "\n",
        "ct.update('abca') # populates the object\n",
        "print(\"print updated counter ---\", ct)"
      ],
      "metadata": {
        "id": "MG9k7rnyJ3yQ"
      },
      "execution_count": null,
      "outputs": []
    },
    {
      "cell_type": "code",
      "source": [
        "ct.update({'a':3}) # update the count of 'a'\n",
        "\n",
        "print(\"print updated counter\",ct)"
      ],
      "metadata": {
        "id": "cgUdN1FfKFT0"
      },
      "execution_count": null,
      "outputs": []
    },
    {
      "cell_type": "markdown",
      "source": [
        "To access all the items in the counter:"
      ],
      "metadata": {
        "id": "LF12W2lLKJpw"
      }
    },
    {
      "cell_type": "code",
      "source": [
        "for item in ct:\n",
        "   print('%s: %d' % (item, ct[item]))"
      ],
      "metadata": {
        "id": "ao_0am9aKH0v"
      },
      "execution_count": null,
      "outputs": []
    },
    {
      "cell_type": "markdown",
      "source": [
        "Let's say we want to print an item which is non existent in the counter:"
      ],
      "metadata": {
        "id": "iRAEbu-_GpB6"
      }
    },
    {
      "cell_type": "code",
      "source": [
        "print(\"Print an element which is not present\", ct['x'])"
      ],
      "metadata": {
        "id": "pk_zB3mMKkS5"
      },
      "execution_count": null,
      "outputs": []
    },
    {
      "cell_type": "markdown",
      "source": [
        "The counter can contain negative values as well:"
      ],
      "metadata": {
        "id": "6NuNt3P4LAsd"
      }
    },
    {
      "cell_type": "code",
      "source": [
        "ct.update({'a':-3, 'b':-2, 'e':2})\n",
        "print (\"updated counter\", ct)\n",
        "\n",
        "print(\"print sorted elements\", sorted(ct.elements()))\n",
        "\n",
        "print(\"print most common elements\", ct.most_common())"
      ],
      "metadata": {
        "id": "bbryCDqvK2BB"
      },
      "execution_count": null,
      "outputs": []
    },
    {
      "cell_type": "markdown",
      "source": [
        "# Exercises\n",
        "## 1. Suppose you have the following dictionaries: \n"
      ],
      "metadata": {
        "id": "aRV6OSaZC2rI"
      }
    },
    {
      "cell_type": "code",
      "source": [
        "dic1 = { 'a' : 1, 'b' : 2 }\n",
        "dic2 = { 'b' : 3, 'c' : 4 }"
      ],
      "metadata": {
        "id": "VrGCNlxmMYAz"
      },
      "execution_count": null,
      "outputs": []
    },
    {
      "cell_type": "markdown",
      "source": [
        "\n",
        "*   From collections import ChainMap and create a chain out of these two. Next, print its keys, values and maps.\n",
        "\n",
        "*   Further, use new_child() to add dic3 = {'f':5} to the chainmap.\n",
        "\n"
      ],
      "metadata": {
        "id": "JFUjMMTDMcgO"
      }
    },
    {
      "cell_type": "markdown",
      "source": [
        ""
      ],
      "metadata": {
        "id": "yVxXSGC7M1wM"
      }
    },
    {
      "cell_type": "markdown",
      "source": [
        "## 2. Given the following text, split it in a list of words and apply Counter on it. Next, apply the method .most_common(10) to show the first 10 most common words in text."
      ],
      "metadata": {
        "id": "xBdfF1DdNLiy"
      }
    },
    {
      "cell_type": "code",
      "source": [
        "from collections import Counter\n",
        "\n",
        "text = \"\"\"The Boat Race 2021 comprised two side-by-side rowing races that took \n",
        "place on 4 April. The Boat Race is contested annually between crews from the \n",
        "universities of Oxford and Cambridge. Traditionally held on the Championship \n",
        "Course in London, the 2021 race instead took place on the River Great Ouse \n",
        "near Ely (course map pictured). This was the 75th women's race and the 166th \n",
        "men's race; the 2020 race was cancelled as a result of the COVID-19 pandemic. \n",
        "Before the 2021 races, Cambridge led 84–80 in the men's race and 44–30 in the \n",
        "women's. For the first time, both races were officiated by female umpires, \n",
        "Judith Packer and Sarah Winckless. Cambridge's women were strong favourites; \n",
        "Oxford took an early lead but Cambridge responded to win. Oxford were slight \n",
        "favourites in the men's race, but Cambridge won by just under one length. \"\"\"\n"
      ],
      "metadata": {
        "id": "1VWySqLPcEE8"
      },
      "execution_count": null,
      "outputs": []
    },
    {
      "cell_type": "markdown",
      "source": [
        "## 3. Let us say your expense for every month are listed below,\n",
        "\n",
        "    *   January - 2200\n",
        "    *   February - 2350\n",
        "    *   March - 2600\n",
        "    *   April - 2130\n",
        "    *   May - 2190\n",
        "\n",
        "Create a list to store these monthly expenses and using that find out:\n",
        "\n",
        "3.1. In Feb, how many dollars you spent extra compare to January?\n",
        "\n"
      ],
      "metadata": {
        "id": "X3Ln2E-ihwQf"
      }
    },
    {
      "cell_type": "code",
      "source": [
        ""
      ],
      "metadata": {
        "id": "UrfzbDgKiLGL"
      },
      "execution_count": null,
      "outputs": []
    },
    {
      "cell_type": "markdown",
      "source": [
        "3.2. Find out your total expense in first quarter (first three months) of the year."
      ],
      "metadata": {
        "id": "KpODlrhhiGF5"
      }
    },
    {
      "cell_type": "code",
      "source": [
        ""
      ],
      "metadata": {
        "id": "WoSFUEaAiKIA"
      },
      "execution_count": null,
      "outputs": []
    },
    {
      "cell_type": "markdown",
      "source": [
        "3.3. Find out if you spent exactly 2000 dollars in any month."
      ],
      "metadata": {
        "id": "hQ2A5dAriMD4"
      }
    },
    {
      "cell_type": "code",
      "source": [
        ""
      ],
      "metadata": {
        "id": "5nj11DKJiQdT"
      },
      "execution_count": null,
      "outputs": []
    },
    {
      "cell_type": "markdown",
      "source": [
        "3.4. June month just finished and your expense is 1980 dollar. Add this item to our monthly expense list"
      ],
      "metadata": {
        "id": "bBiBS4_-iQs9"
      }
    },
    {
      "cell_type": "code",
      "source": [
        ""
      ],
      "metadata": {
        "id": "BBsmtwjfiT3u"
      },
      "execution_count": null,
      "outputs": []
    },
    {
      "cell_type": "markdown",
      "source": [
        "3.5. You returned an item that you bought in a month of April and got a refund of 200$. Make a correction to your monthly expense list based on this."
      ],
      "metadata": {
        "id": "MO2CYsbXiUDN"
      }
    },
    {
      "cell_type": "code",
      "source": [
        ""
      ],
      "metadata": {
        "id": "C3Rdtc2tiZzD"
      },
      "execution_count": null,
      "outputs": []
    },
    {
      "cell_type": "markdown",
      "source": [
        "## 4. Let's say you have a list of your favourite marvel super heros."
      ],
      "metadata": {
        "id": "FbloEba1iowx"
      }
    },
    {
      "cell_type": "code",
      "source": [
        "heroes = ['spider man','thor','hulk','iron man','captain america']"
      ],
      "metadata": {
        "id": "vG5riEtIityZ"
      },
      "execution_count": null,
      "outputs": []
    },
    {
      "cell_type": "markdown",
      "source": [
        "Using this find out:\n",
        "4.1. Length of the list"
      ],
      "metadata": {
        "id": "CGpOwEjvizeO"
      }
    },
    {
      "cell_type": "code",
      "source": [
        ""
      ],
      "metadata": {
        "id": "80T__btai5m1"
      },
      "execution_count": null,
      "outputs": []
    },
    {
      "cell_type": "markdown",
      "source": [
        "4.2. Add 'black panther' at the end of this list"
      ],
      "metadata": {
        "id": "o5Meihnfi5x0"
      }
    },
    {
      "cell_type": "code",
      "source": [
        ""
      ],
      "metadata": {
        "id": "WjlfkYJci8QF"
      },
      "execution_count": null,
      "outputs": []
    },
    {
      "cell_type": "markdown",
      "source": [
        "4.3. You realize that you need to add 'black panther' after 'hulk', so remove it from the list first and then add it after 'hulk'"
      ],
      "metadata": {
        "id": "JykkzQyQi8Wx"
      }
    },
    {
      "cell_type": "code",
      "source": [
        ""
      ],
      "metadata": {
        "id": "dzkKfURPjFqv"
      },
      "execution_count": null,
      "outputs": []
    },
    {
      "cell_type": "markdown",
      "source": [
        "4.4. Now you don't like thor and hulk because they get angry easily :)\n",
        "   So you want to remove thor and hulk from the list and replace them with doctor strange (because he is cool).\n",
        "   Do that with one line of code."
      ],
      "metadata": {
        "id": "7XflPwTWjFz6"
      }
    },
    {
      "cell_type": "code",
      "source": [
        ""
      ],
      "metadata": {
        "id": "UaUCupJ4jM-U"
      },
      "execution_count": null,
      "outputs": []
    },
    {
      "cell_type": "markdown",
      "source": [
        "4.5. Sort the heros list in alphabetical order (Hint. Use dir() functions to list down all functions available in list)"
      ],
      "metadata": {
        "id": "VLO8KYPrjNZ2"
      }
    },
    {
      "cell_type": "code",
      "source": [
        ""
      ],
      "metadata": {
        "id": "7P-b9NsojQyv"
      },
      "execution_count": null,
      "outputs": []
    },
    {
      "cell_type": "markdown",
      "source": [
        "## 5. Create a list of all odd numbers between 1 and a max number. \n",
        "Max number is something you need to take from the user using input() function."
      ],
      "metadata": {
        "id": "fXmeQN4rkYhp"
      }
    },
    {
      "cell_type": "code",
      "source": [
        ""
      ],
      "metadata": {
        "id": "zr8gfIIikepR"
      },
      "execution_count": null,
      "outputs": []
    },
    {
      "cell_type": "markdown",
      "source": [
        "Sources: https://github.com/PacktPublishing/Hands-On-Data-Structures-and-Algorithms-with-Python-Second-Edition\n",
        "\n",
        "https://github.com/codebasics/data-structures-algorithms-python/"
      ],
      "metadata": {
        "id": "egxfafbwIYE5"
      }
    }
  ]
}