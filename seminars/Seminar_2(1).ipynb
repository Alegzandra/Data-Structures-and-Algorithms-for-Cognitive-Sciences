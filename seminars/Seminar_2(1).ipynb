{
  "nbformat": 4,
  "nbformat_minor": 0,
  "metadata": {
    "colab": {
      "provenance": []
    },
    "kernelspec": {
      "name": "python3",
      "display_name": "Python 3"
    },
    "language_info": {
      "name": "python"
    }
  },
  "cells": [
    {
      "cell_type": "markdown",
      "source": [
        "# Big O notation (the order of magnitude)\n",
        "\n",
        "Some algorithms are faster than others, and when choosing the right algorithm, it's important to choose the fatest one."
      ],
      "metadata": {
        "id": "M-QbN58Ubllx"
      }
    },
    {
      "cell_type": "markdown",
      "source": [
        "Let's try to find a solution for **adding 1 to 100**."
      ],
      "metadata": {
        "id": "WOH7CbPwcZ8Z"
      }
    },
    {
      "cell_type": "markdown",
      "source": [
        "**Python solution 1**"
      ],
      "metadata": {
        "id": "Xys7FYbsdFpH"
      }
    },
    {
      "cell_type": "code",
      "source": [
        "def summation(n):\n",
        "    result = 0\n",
        "    for i in range(1, n+1):\n",
        "        result += i\n",
        "    \n",
        "    return result\n",
        "\n",
        "array = [1, 2, 3, 4, 5]\n",
        "summation(5) == sum(array) #expected True"
      ],
      "metadata": {
        "colab": {
          "base_uri": "https://localhost:8080/"
        },
        "id": "FeQDSJmAcsyK",
        "outputId": "ee36294f-7223-4013-ed6a-927332ed5deb"
      },
      "execution_count": 1,
      "outputs": [
        {
          "output_type": "execute_result",
          "data": {
            "text/plain": [
              "True"
            ]
          },
          "metadata": {},
          "execution_count": 1
        }
      ]
    },
    {
      "cell_type": "markdown",
      "source": [
        "**Python solution 2**\n",
        "\n",
        "The second solution is based on the mathematical formula:\n",
        "\n",
        "$1 + 2 + 3 + .... + n = \\frac{n(n+1)}{2}$"
      ],
      "metadata": {
        "id": "HAjBKrkUdI7s"
      }
    },
    {
      "cell_type": "code",
      "execution_count": 2,
      "metadata": {
        "colab": {
          "base_uri": "https://localhost:8080/"
        },
        "id": "gLmK8Fn2blIk",
        "outputId": "62f43cb7-0a12-4922-f172-4fc20fdff922"
      },
      "outputs": [
        {
          "output_type": "execute_result",
          "data": {
            "text/plain": [
              "True"
            ]
          },
          "metadata": {},
          "execution_count": 2
        }
      ],
      "source": [
        "def summation(n):\n",
        "    return n * (n + 1) // 2\n",
        "\n",
        "array = [1, 2, 3, 4, 5]\n",
        "summation(5) == sum(array) #expected True"
      ]
    },
    {
      "cell_type": "markdown",
      "source": [
        "**Solution 1**:\n",
        "\n",
        "Let's say the $n$ is $5$:\n",
        "- Step 1: initialized `result = 0`\n",
        "- Step 2: Start the loop from `i = 1`, then `result = 1 + 0 = 1`\n",
        "- Step 2: In the Loop: now `i = 2`, execute: `result = 1 + 2 = 3`\n",
        "- Step 3: In the Loop: now `i = 3`, execute: `result = 3 + 3 = 6`\n",
        "- Step 4: In the Loop: now `i = 4`, execute: `result = 6 + 4 = 10`\n",
        "- Step 5: In the Loop: now `i = 5`, execute: `result = 10 + 5 = 15`\n",
        "- Step 6: return the `result` value. \n",
        "\n",
        "**Solution 2**:\n",
        "\n",
        "Let's say the $n$ is $5$:\n",
        "- Step 1: return the value: $\\frac{5 \\times (5 + 1)}{2} = 15$\n",
        "\n",
        "Ok, in the first solution, the *Steps* will grows when the $n$ grows, let's say the $n$ is millions, then the function need to execuate millions time to get the answer. In contrast, no matter how big is the $n$, in the second solution, there will be always one time execuation to get the answers, so no matter in a slower computer, or a super fast computer, **Solution 2** will be always faster than the **Solution 1**.\n",
        "\n"
      ],
      "metadata": {
        "id": "DiU1x2mjdkkb"
      }
    },
    {
      "cell_type": "markdown",
      "metadata": {
        "id": "OYZsi7wtb5A_"
      },
      "source": [
        "## Common Functions for Big-O:\n",
        "***\n",
        "$n$ --> The size of the input\n",
        "\n",
        "- Constant runtime(Time Complexity): $O(1)$\n",
        "- Logarithmic runtime(Time Complexity): $O(\\log (n))$\n",
        "- Linear runtime(Time Complexity): $O(n)$\n",
        "- LinearLogarithmic runtime(Time Complexity): $O(n\\log (n))$\n",
        "- Quadric runtime(Time Complexity): $O(n^2)$\n",
        "- Cubic runtime(Time Complexity): $O(n^3)$\n",
        "- Exponential runtime(Time Complexity): $O(b^n), b > 1$\n",
        "- Factorial runtime(Time Complexity): $O(n!)$\n",
        "\n",
        "If we plot the graph of each run time: \n",
        "![img](https://runestone.academy/runestone/books/published/pythonds3/_images/newplot.png)\n",
        "\n",
        "Generally speaking - anything worse than linear is considered a bad complexity (i.e. inefficient) and should be avoided if possible. Linear complexity is okay and usually a necessary evil. Logarithmic is good. Constant is amazing!\n",
        "\n",
        " \n",
        "\n",
        "\n"
      ]
    },
    {
      "cell_type": "markdown",
      "source": [
        "## Big-O Notation Rules: \n",
        "***\n",
        "\n",
        "### **Rule 1: Different Steps get added**\n",
        "\n",
        "**Example**\n",
        "\n",
        "```python\n",
        "def doSomething():\n",
        "    doStep(a) #O(a)\n",
        "    doStep(b) #O(b)\n",
        "    \n",
        "    return\n",
        "```\n",
        "\n",
        "So for the above example, the Time Complexity should be: $O(a+b)$\n",
        "***\n",
        "\n",
        "### **Rule 2: Drop Constants**\n",
        "\n",
        "**Example**\n",
        "\n",
        "**One**\n",
        "```python\n",
        "def minMax(array):\n",
        "    minimum, maximum = None, None\n",
        "    for i in array:\n",
        "        minimum = min(i, minimum)\n",
        "    for i in array:\n",
        "        maximum = max(i, maximum)\n",
        "    \n",
        "    return minimun, maximum\n",
        "```\n",
        "\n",
        "**Two**\n",
        "```python\n",
        "def minMax(array):\n",
        "    minimum, maximum = None, None\n",
        "    for i in array:\n",
        "        minimum = min(i, minimum)\n",
        "        maximum = max(i, maximum)\n",
        "    \n",
        "    return minimum, maximum\n",
        "```\n",
        "\n",
        "The above TWO functions do the same thing, return the `min` and `max` value from an `array`, but the **One** is first find the `min`, and then find the `max`, so the actual steps is `2n`, while the **Two** is finding the `min`, `max` concurrently, so the actual steps is `n`. \n",
        "\n",
        "You may say the **One** time complexity is `O(2n)` and **Two** time complexity is `O(n)`, the actual answer is both of them time complexity is `O(n)`, because when the `n` approach to `inf`, the constant `2` will be less significant till can be ignored, so this is the **Rule 2: Drop the constant**\n",
        "***\n",
        "\n",
        "### **Rule 3: Different Inputs --> Different Variables**\n",
        "\n",
        "**Example**\n",
        "\n",
        "```python\n",
        "def intersectionSize(arrayA, arrayB):\n",
        "    count = 0\n",
        "    for a in arrayA:\n",
        "        for b in arrayB:\n",
        "            if a == b:\n",
        "                count += 1\n",
        "    \n",
        "    return count\n",
        "```\n",
        "\n",
        "Well, this function has `loop` in the `loop`, we can easily identify it as $O(n^2)$ of time complexity, but this is not true. Let's ask a simple question, what is the `n`? Well, `n` is the input size of the array, ok, but which array? `arrayA` or `arrayB`? Since this are different variables, here we should describe the time complexity as: \n",
        "- $O(a \\times b)$\n",
        "***\n",
        "\n",
        "### **Rule 4: Drop the non-dominant terms**\n",
        "\n",
        "**Example**\n",
        "\n",
        "```python\n",
        "\n",
        "def aVeryComplexFunction(array:list):\n",
        "    maximum = None\n",
        "    \n",
        "    # O(n) Time complexity\n",
        "    for i in array:\n",
        "        maximun = max(a, maximum)\n",
        "    print(maximum)\n",
        "    \n",
        "    # O(n^2) Time complexity\n",
        "    for a in array:\n",
        "        for b in array:\n",
        "            print(a, b)\n",
        "```\n",
        "\n",
        "We can see from above function `aVeryComplexFunction`, the 1st part's time complexity is $O(n)$, and the 2nd parts' time complexity is $O(n^2)$, does it mean the total time complexity is $O(n + n^2)$?\n",
        "\n",
        "Well, let's do some simulation: \n",
        "\n",
        "- if `n = 1`, there's $O(1 + 1^2 = 2)$\n",
        "- if `n = 2`, there's $O(2 + 2^2 = 5)$\n",
        "- if `n = 10`, there's $O(10 + 10^2 = 110)$\n",
        "- if `n = 10,000`, there's $O(10,000 + 10,000^2 = ???)$\n",
        "- if `n = 100,000`, there's $O(100,000 + 100,000^2)$\n",
        "\n",
        "What pattern do you find? When the `n` grows, the $n^2$ has more dominance, and the $n$ part become less significant. In the Big-O Notation, we are not doing detailed computation, Big-O notation is just an unified way to describe an algorithm's time complexity and space complexity, so we just need to know the donimant term that impacts the run time the most. So here we drop the non-dominant term, and the time complexity is: \n",
        "\n",
        "- $O(n^2)$\n",
        "\n",
        "***\n",
        "\n"
      ],
      "metadata": {
        "id": "ZhQsDtmUe4PV"
      }
    },
    {
      "cell_type": "markdown",
      "source": [
        "### **Exercises**\n",
        "\n",
        "1. What do you think the _Time Complexity_ of **Solution 1** and **Solution 2**?\n",
        "\n",
        "\n"
      ],
      "metadata": {
        "id": "ujrAyx1LlWNy"
      }
    },
    {
      "cell_type": "markdown",
      "source": [
        "2. Compute the running time for **Solution 1** and **Solution 2**. Which one is, indeed, faster?\n",
        "\n",
        "*Hint*: Create a variable and save the time before the algorithm executes, call it start1 (`start1 = time.time()`). Create a variable and save the time after the algorithm executes, call it end1. Subtract the end1 by the start1 (end1 — start1) and save the difference into a variable called runtime. This runtime is how long it takes for your function/algorithm to execute."
      ],
      "metadata": {
        "id": "dnm-tsQvv4Ji"
      }
    },
    {
      "cell_type": "markdown",
      "source": [
        "3. What is the dominant term and Big O for the following expressions?\n",
        "**Example**:\n",
        "$100n + 0.01n^{2}$\n",
        "\n",
        "- Dominant term: $0.01n^{2}$\n",
        "\n",
        "- Big O: $O(n^{2})$\n",
        "\n",
        "\n",
        "$5 + 0.001n^3 + 0.025n$\n",
        "\n",
        "$500n + 100n^{1.5} + 50n log_{10}n$\n",
        "\n",
        "$0.3n + 5n^{1.5} + 2.5 n^{1.75}$\n",
        "\n",
        "\n",
        "\n",
        "\n"
      ],
      "metadata": {
        "id": "vwMCXpK_mcry"
      }
    },
    {
      "cell_type": "markdown",
      "source": [
        "4. Given the following code fragment, what is its Big-O running time?"
      ],
      "metadata": {
        "id": "a0FEDyncmg31"
      }
    },
    {
      "cell_type": "code",
      "source": [
        "test = 0\n",
        "for i in range(n):\n",
        "  for j in range(n):\n",
        "      test = test + i * j"
      ],
      "metadata": {
        "id": "Bdw5RRsDmhgW"
      },
      "execution_count": null,
      "outputs": []
    },
    {
      "cell_type": "markdown",
      "source": [
        "5. Given the following code fragment, what is its Big-O running time?"
      ],
      "metadata": {
        "id": "E8qSbZ7lmn-a"
      }
    },
    {
      "cell_type": "code",
      "source": [
        "test = 0\n",
        "for i in range(n):\n",
        "  test += 1\n",
        "for j in range(n):\n",
        "  test -= 1"
      ],
      "metadata": {
        "id": "gaRxk5GlmqSd"
      },
      "execution_count": null,
      "outputs": []
    },
    {
      "cell_type": "markdown",
      "source": [
        "6. Given the following code fragment, what is its Big-O running time?"
      ],
      "metadata": {
        "id": "e7zVbGkGmqvK"
      }
    },
    {
      "cell_type": "code",
      "source": [
        "i = n\n",
        "while i > 0:\n",
        "  k = 2 + 2\n",
        "  i = i // 2"
      ],
      "metadata": {
        "id": "1eoXdsjDmvzm"
      },
      "execution_count": null,
      "outputs": []
    },
    {
      "cell_type": "markdown",
      "source": [
        "Source: https://colab.research.google.com/github/JL1829/turbo-funicular/blob/master/_notebooks/2020-10-06-Big-O%20Notation.ipynb#scrollTo=a3484u8tb5BJ"
      ],
      "metadata": {
        "id": "7wJPPyPY1Hvr"
      }
    }
  ]
}