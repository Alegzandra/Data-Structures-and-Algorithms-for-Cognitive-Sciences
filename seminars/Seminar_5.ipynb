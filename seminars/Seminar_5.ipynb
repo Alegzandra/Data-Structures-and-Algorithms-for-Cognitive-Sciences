{
  "nbformat": 4,
  "nbformat_minor": 0,
  "metadata": {
    "colab": {
      "provenance": []
    },
    "kernelspec": {
      "name": "python3",
      "display_name": "Python 3"
    },
    "language_info": {
      "name": "python"
    }
  },
  "cells": [
    {
      "cell_type": "markdown",
      "source": [
        "# Seminar 5 \n",
        "In this seminar we will rememeber stacks, queues and hash tables.\n",
        "\n",
        "Next, we will do some exercises with binary search, breadth first search and depth first search algorithms.\n",
        "\n"
      ],
      "metadata": {
        "id": "fDM1ZkgQBSml"
      }
    },
    {
      "cell_type": "markdown",
      "source": [
        "# The Stack\n",
        "\n",
        "<img src=https://upload.wikimedia.org/wikipedia/commons/thumb/2/29/Data_stack.svg/800px-Data_stack.svg.png width=\"300\">\n",
        "\n"
      ],
      "metadata": {
        "id": "9Rcg6K-Y1Xka"
      }
    },
    {
      "cell_type": "markdown",
      "source": [
        "We can use a list to implement a stack."
      ],
      "metadata": {
        "id": "qljW-R0r1c7Q"
      }
    },
    {
      "cell_type": "code",
      "execution_count": null,
      "metadata": {
        "id": "tyiW5uvz1MFR"
      },
      "outputs": [],
      "source": [
        "s = []\n",
        "s.append('https://www.cnn.com/')\n",
        "s.append('https://www.cnn.com/world')\n",
        "s.append('https://www.cnn.com/romania')\n",
        "s.append('https://www.cnn.com/china')"
      ]
    },
    {
      "cell_type": "code",
      "source": [
        "s"
      ],
      "metadata": {
        "colab": {
          "base_uri": "https://localhost:8080/"
        },
        "id": "OxK5gwqN2V1S",
        "outputId": "b5b1fb24-d3ff-4262-830c-099186cf472f"
      },
      "execution_count": null,
      "outputs": [
        {
          "output_type": "execute_result",
          "data": {
            "text/plain": [
              "['https://www.cnn.com/',\n",
              " 'https://www.cnn.com/world',\n",
              " 'https://www.cnn.com/romania',\n",
              " 'https://www.cnn.com/china']"
            ]
          },
          "metadata": {},
          "execution_count": 109
        }
      ]
    },
    {
      "cell_type": "code",
      "execution_count": null,
      "metadata": {
        "colab": {
          "base_uri": "https://localhost:8080/",
          "height": 35
        },
        "id": "6jR29lcJ0rwu",
        "outputId": "2eddd29b-b0c4-4b45-dc82-0f92384b460a"
      },
      "outputs": [
        {
          "output_type": "execute_result",
          "data": {
            "text/plain": [
              "'https://www.cnn.com/romania'"
            ],
            "application/vnd.google.colaboratory.intrinsic+json": {
              "type": "string"
            }
          },
          "metadata": {},
          "execution_count": 111
        }
      ],
      "source": [
        "s.pop()"
      ]
    },
    {
      "cell_type": "code",
      "source": [
        "s.pop()"
      ],
      "metadata": {
        "colab": {
          "base_uri": "https://localhost:8080/",
          "height": 35
        },
        "id": "Lit51IQT1lv8",
        "outputId": "1e7f5fde-7a73-4feb-df15-83c69e3eacc9"
      },
      "execution_count": null,
      "outputs": [
        {
          "output_type": "execute_result",
          "data": {
            "text/plain": [
              "'https://www.cnn.com/world'"
            ],
            "application/vnd.google.colaboratory.intrinsic+json": {
              "type": "string"
            }
          },
          "metadata": {},
          "execution_count": 112
        }
      ]
    },
    {
      "cell_type": "code",
      "source": [
        "s"
      ],
      "metadata": {
        "colab": {
          "base_uri": "https://localhost:8080/"
        },
        "id": "yNmaOoUs2vWT",
        "outputId": "0c746642-d9e4-4712-bad6-22471f16826b"
      },
      "execution_count": null,
      "outputs": [
        {
          "output_type": "execute_result",
          "data": {
            "text/plain": [
              "['https://www.cnn.com/']"
            ]
          },
          "metadata": {},
          "execution_count": 113
        }
      ]
    },
    {
      "cell_type": "code",
      "source": [
        "s[-1]"
      ],
      "metadata": {
        "colab": {
          "base_uri": "https://localhost:8080/",
          "height": 35
        },
        "id": "4Uw6FPSx1mqh",
        "outputId": "a8d14a87-8836-4ed2-a0b6-a79c834799af"
      },
      "execution_count": null,
      "outputs": [
        {
          "output_type": "execute_result",
          "data": {
            "text/plain": [
              "'https://www.cnn.com/'"
            ],
            "application/vnd.google.colaboratory.intrinsic+json": {
              "type": "string"
            }
          },
          "metadata": {},
          "execution_count": 114
        }
      ]
    },
    {
      "cell_type": "markdown",
      "source": [
        "We can also use the **deque** as a stack (https://www.geeksforgeeks.org/deque-in-python/). The deque is a list-like data structure that allows appending and popping on both ends."
      ],
      "metadata": {
        "id": "VhgjFpkM1sdR"
      }
    },
    {
      "cell_type": "code",
      "source": [
        "from collections import deque\n",
        "stack = deque()"
      ],
      "metadata": {
        "id": "wz2NS77e19G8"
      },
      "execution_count": null,
      "outputs": []
    },
    {
      "cell_type": "code",
      "source": [
        "dir(stack)"
      ],
      "metadata": {
        "colab": {
          "base_uri": "https://localhost:8080/"
        },
        "id": "u-hyAXIR1_DJ",
        "outputId": "4053cbef-b8d1-4c6c-f14d-61fd98126a9b"
      },
      "execution_count": null,
      "outputs": [
        {
          "output_type": "execute_result",
          "data": {
            "text/plain": [
              "['__add__',\n",
              " '__bool__',\n",
              " '__class__',\n",
              " '__contains__',\n",
              " '__copy__',\n",
              " '__delattr__',\n",
              " '__delitem__',\n",
              " '__dir__',\n",
              " '__doc__',\n",
              " '__eq__',\n",
              " '__format__',\n",
              " '__ge__',\n",
              " '__getattribute__',\n",
              " '__getitem__',\n",
              " '__gt__',\n",
              " '__hash__',\n",
              " '__iadd__',\n",
              " '__imul__',\n",
              " '__init__',\n",
              " '__init_subclass__',\n",
              " '__iter__',\n",
              " '__le__',\n",
              " '__len__',\n",
              " '__lt__',\n",
              " '__mul__',\n",
              " '__ne__',\n",
              " '__new__',\n",
              " '__reduce__',\n",
              " '__reduce_ex__',\n",
              " '__repr__',\n",
              " '__reversed__',\n",
              " '__rmul__',\n",
              " '__setattr__',\n",
              " '__setitem__',\n",
              " '__sizeof__',\n",
              " '__str__',\n",
              " '__subclasshook__',\n",
              " 'append',\n",
              " 'appendleft',\n",
              " 'clear',\n",
              " 'copy',\n",
              " 'count',\n",
              " 'extend',\n",
              " 'extendleft',\n",
              " 'index',\n",
              " 'insert',\n",
              " 'maxlen',\n",
              " 'pop',\n",
              " 'popleft',\n",
              " 'remove',\n",
              " 'reverse',\n",
              " 'rotate']"
            ]
          },
          "metadata": {},
          "execution_count": 116
        }
      ]
    },
    {
      "cell_type": "code",
      "source": [
        "stack.append(\"https://www.cnn.com/\")\n",
        "stack"
      ],
      "metadata": {
        "colab": {
          "base_uri": "https://localhost:8080/"
        },
        "id": "oxPpq26N2B9Q",
        "outputId": "6189b240-5e58-42e4-d86c-54a376caf4df"
      },
      "execution_count": null,
      "outputs": [
        {
          "output_type": "execute_result",
          "data": {
            "text/plain": [
              "deque(['https://www.cnn.com/'])"
            ]
          },
          "metadata": {},
          "execution_count": 117
        }
      ]
    },
    {
      "cell_type": "code",
      "source": [
        "stack.append(\"https://www.cnn.com/world\")\n",
        "stack"
      ],
      "metadata": {
        "colab": {
          "base_uri": "https://localhost:8080/"
        },
        "id": "BA09UXc02Cu4",
        "outputId": "cc716699-ad78-4fd3-fe85-1e15f3ddaa45"
      },
      "execution_count": null,
      "outputs": [
        {
          "output_type": "execute_result",
          "data": {
            "text/plain": [
              "deque(['https://www.cnn.com/', 'https://www.cnn.com/world'])"
            ]
          },
          "metadata": {},
          "execution_count": 118
        }
      ]
    },
    {
      "cell_type": "code",
      "source": [
        "stack.append(\"https://www.cnn.com/india\")\n",
        "stack.append(\"https://www.cnn.com/china\")\n",
        "stack"
      ],
      "metadata": {
        "colab": {
          "base_uri": "https://localhost:8080/"
        },
        "id": "dxOHokXo2Ft5",
        "outputId": "b888f12b-4e63-429a-fece-bc8b113cc59f"
      },
      "execution_count": null,
      "outputs": [
        {
          "output_type": "execute_result",
          "data": {
            "text/plain": [
              "deque(['https://www.cnn.com/',\n",
              "       'https://www.cnn.com/world',\n",
              "       'https://www.cnn.com/india',\n",
              "       'https://www.cnn.com/china'])"
            ]
          },
          "metadata": {},
          "execution_count": 119
        }
      ]
    },
    {
      "cell_type": "code",
      "source": [
        "stack.pop()"
      ],
      "metadata": {
        "colab": {
          "base_uri": "https://localhost:8080/",
          "height": 35
        },
        "id": "anpFqSLQ2Hfw",
        "outputId": "eddcaf0f-acba-4e97-e54f-b059e777c70b"
      },
      "execution_count": null,
      "outputs": [
        {
          "output_type": "execute_result",
          "data": {
            "text/plain": [
              "'https://www.cnn.com/china'"
            ],
            "application/vnd.google.colaboratory.intrinsic+json": {
              "type": "string"
            }
          },
          "metadata": {},
          "execution_count": 120
        }
      ]
    },
    {
      "cell_type": "code",
      "source": [
        "stack.pop()"
      ],
      "metadata": {
        "colab": {
          "base_uri": "https://localhost:8080/",
          "height": 35
        },
        "id": "Xh6MPLFz2H5H",
        "outputId": "0f98bf52-ac34-4a2a-b389-4b17005e99c0"
      },
      "execution_count": null,
      "outputs": [
        {
          "output_type": "execute_result",
          "data": {
            "text/plain": [
              "'https://www.cnn.com/india'"
            ],
            "application/vnd.google.colaboratory.intrinsic+json": {
              "type": "string"
            }
          },
          "metadata": {},
          "execution_count": 121
        }
      ]
    },
    {
      "cell_type": "code",
      "source": [
        "stack"
      ],
      "metadata": {
        "colab": {
          "base_uri": "https://localhost:8080/"
        },
        "id": "b-wCAibU2JRt",
        "outputId": "027aa849-4126-462d-8bc6-2453055af2b4"
      },
      "execution_count": null,
      "outputs": [
        {
          "output_type": "execute_result",
          "data": {
            "text/plain": [
              "deque(['https://www.cnn.com/', 'https://www.cnn.com/world'])"
            ]
          },
          "metadata": {},
          "execution_count": 122
        }
      ]
    },
    {
      "cell_type": "code",
      "source": [
        "stack.pop()"
      ],
      "metadata": {
        "colab": {
          "base_uri": "https://localhost:8080/",
          "height": 35
        },
        "id": "c6tYwYJe2J_W",
        "outputId": "dee73ca0-30bc-497a-b8ee-700b3ea50cc1"
      },
      "execution_count": null,
      "outputs": [
        {
          "output_type": "execute_result",
          "data": {
            "text/plain": [
              "'https://www.cnn.com/world'"
            ],
            "application/vnd.google.colaboratory.intrinsic+json": {
              "type": "string"
            }
          },
          "metadata": {},
          "execution_count": 123
        }
      ]
    },
    {
      "cell_type": "code",
      "source": [
        "stack.pop()"
      ],
      "metadata": {
        "colab": {
          "base_uri": "https://localhost:8080/",
          "height": 35
        },
        "id": "smEdYUeZ2Lxj",
        "outputId": "5aab3191-877a-455a-dd18-f70776ac1b13"
      },
      "execution_count": null,
      "outputs": [
        {
          "output_type": "execute_result",
          "data": {
            "text/plain": [
              "'https://www.cnn.com/'"
            ],
            "application/vnd.google.colaboratory.intrinsic+json": {
              "type": "string"
            }
          },
          "metadata": {},
          "execution_count": 124
        }
      ]
    },
    {
      "cell_type": "code",
      "source": [
        "stack.pop()"
      ],
      "metadata": {
        "colab": {
          "base_uri": "https://localhost:8080/",
          "height": 167
        },
        "id": "x3q-eI5f2MLo",
        "outputId": "6a2a797b-eb7a-4d44-dba0-3111acee6ec9"
      },
      "execution_count": null,
      "outputs": [
        {
          "output_type": "error",
          "ename": "IndexError",
          "evalue": "ignored",
          "traceback": [
            "\u001b[0;31m---------------------------------------------------------------------------\u001b[0m",
            "\u001b[0;31mIndexError\u001b[0m                                Traceback (most recent call last)",
            "\u001b[0;32m<ipython-input-125-415460d3b717>\u001b[0m in \u001b[0;36m<module>\u001b[0;34m()\u001b[0m\n\u001b[0;32m----> 1\u001b[0;31m \u001b[0mstack\u001b[0m\u001b[0;34m.\u001b[0m\u001b[0mpop\u001b[0m\u001b[0;34m(\u001b[0m\u001b[0;34m)\u001b[0m\u001b[0;34m\u001b[0m\u001b[0;34m\u001b[0m\u001b[0m\n\u001b[0m",
            "\u001b[0;31mIndexError\u001b[0m: pop from an empty deque"
          ]
        }
      ]
    },
    {
      "cell_type": "markdown",
      "source": [
        "Rememeber the Stack class we created in Lesson 5, that was using linked lists?"
      ],
      "metadata": {
        "id": "Y1Jyf3g_2WnY"
      }
    },
    {
      "cell_type": "code",
      "source": [
        "class Node:\n",
        "    # to create nodes (the same as in LL)\n",
        "    def __init__(self, value):\n",
        "        self.value = value\n",
        "        self.next = None\n",
        "\n",
        "class old_Stack:\n",
        "    def __init__(self, value):\n",
        "        #create new Node\n",
        "        new_node = Node(value)\n",
        "        self.top = new_node # we don't need to keep track of the bottom\n",
        "        self.height = 1 # length becomes height\n",
        "\n",
        "    def print_stack(self):\n",
        "        temp = self.top\n",
        "        # we stop running the loop when temp is None\n",
        "        while temp is not None:\n",
        "            print(temp.value)\n",
        "            temp = temp.next\n",
        "\n",
        "    def push(self, value):\n",
        "        new_node = Node(value)\n",
        "        if self.height == 0:\n",
        "            self.top = new_node\n",
        "        else:\n",
        "            new_node.next = self.top # new node is going to point to the same node that top is pointing to\n",
        "            self.top = new_node # now top is pointing to the added element\n",
        "        self.height += 1\n",
        "\n",
        "    def pop(self):\n",
        "        if self.height == 0:\n",
        "            return None\n",
        "        else:\n",
        "            # a temporary variable will point to the top node\n",
        "            temp = self.top\n",
        "            # we move top down to the next node (top points to the next node)\n",
        "            self.top = self.top.next\n",
        "            # we remove the node from the stack (the next node after temp is None)\n",
        "            temp.next = None\n",
        "        self.height -= 1\n",
        "        return temp"
      ],
      "metadata": {
        "id": "yLQE0r8M2axo"
      },
      "execution_count": null,
      "outputs": []
    },
    {
      "cell_type": "markdown",
      "source": [
        "We can create a simpler Stack class, using the **deque**:"
      ],
      "metadata": {
        "id": "zZ4Ydxj-2fn6"
      }
    },
    {
      "cell_type": "code",
      "execution_count": null,
      "metadata": {
        "id": "iWRkCNG_1MGx"
      },
      "outputs": [],
      "source": [
        "class Stack:\n",
        "    def __init__(self):\n",
        "        # in the initialisation we create an empty deque and we call it container\n",
        "        self.container = deque()\n",
        "    \n",
        "    def push(self,val):\n",
        "        # the pushing operation is appending to the deque\n",
        "        self.container.append(val)\n",
        "\n",
        "    def push_more(self,vals):\n",
        "        self.container.extend(vals)\n",
        "        \n",
        "    def pop(self):\n",
        "        # popping an element\n",
        "        return self.container.pop()\n",
        "    \n",
        "    def peek(self):\n",
        "        # peeking is showing the last element in the Stack\n",
        "        return self.container[-1]\n",
        "\n",
        "    def peek_first(self):\n",
        "        return self.container[0]\n",
        "    \n",
        "    def is_empty(self):\n",
        "        # shows if the Stack is empty\n",
        "        return len(self.container) == 0\n",
        "    \n",
        "    def size(self):\n",
        "        # shows the length of the Stack\n",
        "        return len(self.container)"
      ]
    },
    {
      "cell_type": "code",
      "execution_count": null,
      "metadata": {
        "id": "JbZGzPBK1MG1"
      },
      "outputs": [],
      "source": [
        "s = Stack()\n",
        "s.push(5)"
      ]
    },
    {
      "cell_type": "code",
      "source": [
        "s.push_more([4,2,3])\n"
      ],
      "metadata": {
        "id": "HtqQ0rJm5jsh"
      },
      "execution_count": null,
      "outputs": []
    },
    {
      "cell_type": "code",
      "source": [
        "s.peek()"
      ],
      "metadata": {
        "colab": {
          "base_uri": "https://localhost:8080/"
        },
        "id": "Lzh6j01r5qU0",
        "outputId": "ba55887b-018b-4e37-d32a-ecf117494304"
      },
      "execution_count": null,
      "outputs": [
        {
          "output_type": "execute_result",
          "data": {
            "text/plain": [
              "3"
            ]
          },
          "metadata": {},
          "execution_count": 143
        }
      ]
    },
    {
      "cell_type": "code",
      "source": [
        "s.size()"
      ],
      "metadata": {
        "colab": {
          "base_uri": "https://localhost:8080/"
        },
        "id": "WMowSPs_5yXY",
        "outputId": "5f26939a-1f96-4a77-f1e7-a2f537e966e5"
      },
      "execution_count": null,
      "outputs": [
        {
          "output_type": "execute_result",
          "data": {
            "text/plain": [
              "4"
            ]
          },
          "metadata": {},
          "execution_count": 144
        }
      ]
    },
    {
      "cell_type": "code",
      "source": [
        "s.peek_first()"
      ],
      "metadata": {
        "colab": {
          "base_uri": "https://localhost:8080/"
        },
        "id": "RHjiBQYL55D-",
        "outputId": "28e4d6be-daa0-48e0-9266-30a38c9c84ad"
      },
      "execution_count": null,
      "outputs": [
        {
          "output_type": "execute_result",
          "data": {
            "text/plain": [
              "5"
            ]
          },
          "metadata": {},
          "execution_count": 145
        }
      ]
    },
    {
      "cell_type": "code",
      "source": [
        "s.is_empty()"
      ],
      "metadata": {
        "colab": {
          "base_uri": "https://localhost:8080/"
        },
        "id": "ftJ5sxEZ2oKy",
        "outputId": "5afe0fe6-09ff-4259-b598-52cf50a123f6"
      },
      "execution_count": null,
      "outputs": [
        {
          "output_type": "execute_result",
          "data": {
            "text/plain": [
              "False"
            ]
          },
          "metadata": {},
          "execution_count": 128
        }
      ]
    },
    {
      "cell_type": "code",
      "source": [
        "s.pop()"
      ],
      "metadata": {
        "colab": {
          "base_uri": "https://localhost:8080/"
        },
        "id": "fQI9QnDb2rZK",
        "outputId": "1f68e653-6c75-4040-fd10-a46dac3561dd"
      },
      "execution_count": null,
      "outputs": [
        {
          "output_type": "execute_result",
          "data": {
            "text/plain": [
              "5"
            ]
          },
          "metadata": {},
          "execution_count": 129
        }
      ]
    },
    {
      "cell_type": "code",
      "source": [
        "s.is_empty()"
      ],
      "metadata": {
        "colab": {
          "base_uri": "https://localhost:8080/"
        },
        "id": "J_XZT4Cm2sjL",
        "outputId": "33e9364c-a28b-46cb-d756-c9705b1464c2"
      },
      "execution_count": null,
      "outputs": [
        {
          "output_type": "execute_result",
          "data": {
            "text/plain": [
              "True"
            ]
          },
          "metadata": {},
          "execution_count": 130
        }
      ]
    },
    {
      "cell_type": "code",
      "source": [
        "s.push(9)\n",
        "s.push(34)\n",
        "s.push(78)\n",
        "s.push(12)"
      ],
      "metadata": {
        "id": "CBhpP3_q2wLp"
      },
      "execution_count": null,
      "outputs": []
    },
    {
      "cell_type": "code",
      "source": [
        "s"
      ],
      "metadata": {
        "colab": {
          "base_uri": "https://localhost:8080/"
        },
        "id": "TOeYrE9S4yXI",
        "outputId": "99873af7-6e37-4c3b-c6ca-a363a0aeeda4"
      },
      "execution_count": null,
      "outputs": [
        {
          "output_type": "execute_result",
          "data": {
            "text/plain": [
              "<__main__.Stack at 0x7fef86706cd0>"
            ]
          },
          "metadata": {},
          "execution_count": 132
        }
      ]
    },
    {
      "cell_type": "code",
      "source": [
        "s.peek()"
      ],
      "metadata": {
        "colab": {
          "base_uri": "https://localhost:8080/"
        },
        "id": "rCIZCyut2yJi",
        "outputId": "801bfc4d-abbc-4c0b-ee92-3a4fd6392b2e"
      },
      "execution_count": null,
      "outputs": [
        {
          "output_type": "execute_result",
          "data": {
            "text/plain": [
              "12"
            ]
          },
          "metadata": {},
          "execution_count": 133
        }
      ]
    },
    {
      "cell_type": "code",
      "source": [
        "s.pop()"
      ],
      "metadata": {
        "colab": {
          "base_uri": "https://localhost:8080/"
        },
        "id": "rBi3yW6W2zTZ",
        "outputId": "45d18abc-ec88-46c1-9681-523da3e51fd1"
      },
      "execution_count": null,
      "outputs": [
        {
          "output_type": "execute_result",
          "data": {
            "text/plain": [
              "12"
            ]
          },
          "metadata": {},
          "execution_count": 134
        }
      ]
    },
    {
      "cell_type": "code",
      "source": [
        "s.pop()"
      ],
      "metadata": {
        "colab": {
          "base_uri": "https://localhost:8080/"
        },
        "id": "RPnF9Hh920vh",
        "outputId": "ab7feb81-3cc4-4260-901f-99abd31a5dab"
      },
      "execution_count": null,
      "outputs": [
        {
          "output_type": "execute_result",
          "data": {
            "text/plain": [
              "78"
            ]
          },
          "metadata": {},
          "execution_count": 135
        }
      ]
    },
    {
      "cell_type": "code",
      "source": [
        "s.pop()"
      ],
      "metadata": {
        "colab": {
          "base_uri": "https://localhost:8080/"
        },
        "id": "alY71HKE21DN",
        "outputId": "3903d5f3-bf9e-4918-bce2-e7ca1e172f42"
      },
      "execution_count": null,
      "outputs": [
        {
          "output_type": "execute_result",
          "data": {
            "text/plain": [
              "34"
            ]
          },
          "metadata": {},
          "execution_count": 136
        }
      ]
    },
    {
      "cell_type": "code",
      "source": [
        "s.pop()"
      ],
      "metadata": {
        "id": "iof1NMi823VL"
      },
      "execution_count": null,
      "outputs": []
    },
    {
      "cell_type": "markdown",
      "source": [
        "# The Queue\n",
        "\n",
        "<img src=https://upload.wikimedia.org/wikipedia/commons/thumb/5/52/Data_Queue.svg/1024px-Data_Queue.svg.png width=\"300\">\n",
        "\n"
      ],
      "metadata": {
        "id": "hkevX4J1jtws"
      }
    },
    {
      "cell_type": "markdown",
      "source": [
        "We can use a list as a queue."
      ],
      "metadata": {
        "id": "kbRBWXli5YbH"
      }
    },
    {
      "cell_type": "code",
      "source": [
        "wmt_stock_price_queue = []"
      ],
      "metadata": {
        "id": "ZFB620-V4qI_"
      },
      "execution_count": null,
      "outputs": []
    },
    {
      "cell_type": "code",
      "source": [
        "wmt_stock_price_queue.insert(0,131.10)\n",
        "wmt_stock_price_queue.insert(1,132.12)\n",
        "wmt_stock_price_queue.insert(0,135)"
      ],
      "metadata": {
        "id": "9QiYavm85cFG"
      },
      "execution_count": null,
      "outputs": []
    },
    {
      "cell_type": "code",
      "source": [
        "wmt_stock_price_queue"
      ],
      "metadata": {
        "colab": {
          "base_uri": "https://localhost:8080/"
        },
        "id": "IsczVtlY5fFO",
        "outputId": "fd819d27-16be-4fb3-8d39-167f193a58fb"
      },
      "execution_count": null,
      "outputs": [
        {
          "output_type": "execute_result",
          "data": {
            "text/plain": [
              "[135, 131.1, 132.12]"
            ]
          },
          "metadata": {},
          "execution_count": 153
        }
      ]
    },
    {
      "cell_type": "code",
      "source": [
        "wmt_stock_price_queue.pop()"
      ],
      "metadata": {
        "colab": {
          "base_uri": "https://localhost:8080/"
        },
        "id": "QXWyxQh_5guW",
        "outputId": "40cf434f-7fad-4d41-fc4e-6398db671900"
      },
      "execution_count": null,
      "outputs": [
        {
          "output_type": "execute_result",
          "data": {
            "text/plain": [
              "132.12"
            ]
          },
          "metadata": {},
          "execution_count": 154
        }
      ]
    },
    {
      "cell_type": "code",
      "source": [
        "wmt_stock_price_queue"
      ],
      "metadata": {
        "colab": {
          "base_uri": "https://localhost:8080/"
        },
        "id": "d0_1J-qf5kOq",
        "outputId": "ae8e723f-4f83-411c-d78e-4254c156f127"
      },
      "execution_count": null,
      "outputs": [
        {
          "output_type": "execute_result",
          "data": {
            "text/plain": [
              "[135, 131.1]"
            ]
          },
          "metadata": {},
          "execution_count": 155
        }
      ]
    },
    {
      "cell_type": "code",
      "source": [
        "wmt_stock_price_queue.pop()"
      ],
      "metadata": {
        "colab": {
          "base_uri": "https://localhost:8080/"
        },
        "id": "Q6cKAbQB5kOu",
        "outputId": "aee15ffe-cf1c-4be6-e915-183b6f973084"
      },
      "execution_count": null,
      "outputs": [
        {
          "output_type": "execute_result",
          "data": {
            "text/plain": [
              "131.1"
            ]
          },
          "metadata": {},
          "execution_count": 156
        }
      ]
    },
    {
      "cell_type": "code",
      "source": [
        "wmt_stock_price_queue.pop()"
      ],
      "metadata": {
        "colab": {
          "base_uri": "https://localhost:8080/"
        },
        "id": "pPvlaN4q5nHT",
        "outputId": "ede0211f-8f32-4bb4-b87c-e80f0fdc4aa9"
      },
      "execution_count": null,
      "outputs": [
        {
          "output_type": "execute_result",
          "data": {
            "text/plain": [
              "135"
            ]
          },
          "metadata": {},
          "execution_count": 157
        }
      ]
    },
    {
      "cell_type": "code",
      "source": [
        "wmt_stock_price_queue.pop()"
      ],
      "metadata": {
        "colab": {
          "base_uri": "https://localhost:8080/",
          "height": 167
        },
        "id": "UCvqTDO-5nhD",
        "outputId": "f47bea1b-49d2-4e5c-92b7-dd13dfd4ff2a"
      },
      "execution_count": null,
      "outputs": [
        {
          "output_type": "error",
          "ename": "IndexError",
          "evalue": "ignored",
          "traceback": [
            "\u001b[0;31m---------------------------------------------------------------------------\u001b[0m",
            "\u001b[0;31mIndexError\u001b[0m                                Traceback (most recent call last)",
            "\u001b[0;32m<ipython-input-158-09580442e205>\u001b[0m in \u001b[0;36m<module>\u001b[0;34m()\u001b[0m\n\u001b[0;32m----> 1\u001b[0;31m \u001b[0mwmt_stock_price_queue\u001b[0m\u001b[0;34m.\u001b[0m\u001b[0mpop\u001b[0m\u001b[0;34m(\u001b[0m\u001b[0;34m)\u001b[0m\u001b[0;34m\u001b[0m\u001b[0;34m\u001b[0m\u001b[0m\n\u001b[0m",
            "\u001b[0;31mIndexError\u001b[0m: pop from empty list"
          ]
        }
      ]
    },
    {
      "cell_type": "markdown",
      "source": [
        "But we can also use the **deque** to implement a queue."
      ],
      "metadata": {
        "id": "OmAikSfy5qiC"
      }
    },
    {
      "cell_type": "code",
      "source": [
        "from collections import deque\n",
        "q = deque()"
      ],
      "metadata": {
        "id": "r21Hdxhb5zS1"
      },
      "execution_count": null,
      "outputs": []
    },
    {
      "cell_type": "code",
      "source": [
        "q.appendleft(5)\n",
        "q.appendleft(8)\n",
        "q.appendleft(10)\n",
        "q"
      ],
      "metadata": {
        "colab": {
          "base_uri": "https://localhost:8080/"
        },
        "id": "5EuKn4Wu506l",
        "outputId": "039eac17-f961-4f45-c8a1-286257e93789"
      },
      "execution_count": null,
      "outputs": [
        {
          "output_type": "execute_result",
          "data": {
            "text/plain": [
              "deque([10, 8, 5])"
            ]
          },
          "metadata": {},
          "execution_count": 159
        }
      ]
    },
    {
      "cell_type": "code",
      "source": [
        "q.pop()"
      ],
      "metadata": {
        "colab": {
          "base_uri": "https://localhost:8080/"
        },
        "id": "Gow8ephy52ml",
        "outputId": "9fb43d04-c669-46cf-99bd-4f9597d01169"
      },
      "execution_count": null,
      "outputs": [
        {
          "output_type": "execute_result",
          "data": {
            "text/plain": [
              "5"
            ]
          },
          "metadata": {},
          "execution_count": 160
        }
      ]
    },
    {
      "cell_type": "code",
      "source": [
        "q"
      ],
      "metadata": {
        "colab": {
          "base_uri": "https://localhost:8080/"
        },
        "id": "MmUYGh9e53It",
        "outputId": "863bea73-e827-48d2-b609-d003b091723a"
      },
      "execution_count": null,
      "outputs": [
        {
          "output_type": "execute_result",
          "data": {
            "text/plain": [
              "deque([10, 8])"
            ]
          },
          "metadata": {},
          "execution_count": 161
        }
      ]
    },
    {
      "cell_type": "code",
      "source": [
        "q.pop()"
      ],
      "metadata": {
        "colab": {
          "base_uri": "https://localhost:8080/"
        },
        "id": "-pzeUcQz53qO",
        "outputId": "7e894a31-17b2-4c53-8f06-e67b3aff2313"
      },
      "execution_count": null,
      "outputs": [
        {
          "output_type": "execute_result",
          "data": {
            "text/plain": [
              "8"
            ]
          },
          "metadata": {},
          "execution_count": 162
        }
      ]
    },
    {
      "cell_type": "code",
      "source": [
        "q.pop()"
      ],
      "metadata": {
        "colab": {
          "base_uri": "https://localhost:8080/"
        },
        "id": "b_9fZr9655-D",
        "outputId": "b6c62477-3501-4d50-e000-ec9db10b1962"
      },
      "execution_count": null,
      "outputs": [
        {
          "output_type": "execute_result",
          "data": {
            "text/plain": [
              "10"
            ]
          },
          "metadata": {},
          "execution_count": 163
        }
      ]
    },
    {
      "cell_type": "code",
      "source": [
        "q.pop()"
      ],
      "metadata": {
        "colab": {
          "base_uri": "https://localhost:8080/",
          "height": 167
        },
        "id": "3G9U54pN56x5",
        "outputId": "bbd2d121-fd01-4f26-f190-066f910238c7"
      },
      "execution_count": null,
      "outputs": [
        {
          "output_type": "error",
          "ename": "IndexError",
          "evalue": "ignored",
          "traceback": [
            "\u001b[0;31m---------------------------------------------------------------------------\u001b[0m",
            "\u001b[0;31mIndexError\u001b[0m                                Traceback (most recent call last)",
            "\u001b[0;32m<ipython-input-164-a75d510a0910>\u001b[0m in \u001b[0;36m<module>\u001b[0;34m()\u001b[0m\n\u001b[0;32m----> 1\u001b[0;31m \u001b[0mq\u001b[0m\u001b[0;34m.\u001b[0m\u001b[0mpop\u001b[0m\u001b[0;34m(\u001b[0m\u001b[0;34m)\u001b[0m\u001b[0;34m\u001b[0m\u001b[0;34m\u001b[0m\u001b[0m\n\u001b[0m",
            "\u001b[0;31mIndexError\u001b[0m: pop from an empty deque"
          ]
        }
      ]
    },
    {
      "cell_type": "markdown",
      "source": [
        "Rememeber the class we used in Lesson 5 to implement the queue? "
      ],
      "metadata": {
        "id": "y35c_zjE5-n5"
      }
    },
    {
      "cell_type": "code",
      "source": [
        "class Node:\n",
        "    # to create nodes (the same as in stacks)\n",
        "    def __init__(self, value):\n",
        "        self.value = value\n",
        "        self.next = None\n",
        "\n",
        "class old_Queue:\n",
        "    def __init__(self, value):\n",
        "        #create new Node\n",
        "        new_node = Node(value)\n",
        "        self.first = new_node # we don't need to keep track of the bottom\n",
        "        self.last = new_node\n",
        "        self.length = 1 # length again, not height\n",
        "\n",
        "    def print_queue(self):\n",
        "        temp = self.first\n",
        "        # we stop running the loop when temp is None\n",
        "        while temp is not None:\n",
        "            print(temp.value)\n",
        "            temp = temp.next\n",
        "\n",
        "    def enqueue(self, value):\n",
        "        new_node = Node(value) # we use the value to create a node\n",
        "        if self.first is None: # if there are no elements in queue, first and last point to the same new node\n",
        "            self.first = new_node\n",
        "            self.last = new_node\n",
        "        else:\n",
        "            self.last.next = new_node # the next value in last pointer is going to be the new_node  new node is going to point to the same node that top is pointing to\n",
        "            self.last = new_node # we move the last pointer to pint the new node\n",
        "        self.length += 1\n",
        "\n",
        "    def dequeue(self):\n",
        "        if self.length == 0:\n",
        "            return None\n",
        "            # a temporary variable will point to the first node\n",
        "        temp = self.first\n",
        "        if self.length == 1:\n",
        "            self.first = None\n",
        "            self.last = None\n",
        "        else:\n",
        "            # first will point to the next node in queue\n",
        "            self.first = self.first.next\n",
        "            # remove the node\n",
        "            temp.next = None\n",
        "        self.length -= 1\n",
        "        return temp"
      ],
      "metadata": {
        "id": "-i2v9mZJ6J8Z"
      },
      "execution_count": null,
      "outputs": []
    },
    {
      "cell_type": "markdown",
      "source": [
        "Here is a simpler way, using the deque:"
      ],
      "metadata": {
        "id": "TOIvuo6s6KhW"
      }
    },
    {
      "cell_type": "code",
      "source": [
        "from collections import deque\n",
        "\n",
        "class Queue:\n",
        "    # we initialize an empty deque and we call it buffer\n",
        "    def __init__(self):\n",
        "        self.buffer = deque()\n",
        "    \n",
        "    def enqueue(self, val):\n",
        "        # enqueing is appending to the left \n",
        "        self.buffer.appendleft(val)\n",
        "        \n",
        "    def dequeue(self):\n",
        "        return self.buffer.pop()\n",
        "    \n",
        "    def is_empty(self):\n",
        "        return len(self.buffer) == 0\n",
        "    \n",
        "    def size(self):\n",
        "        return len(self.buffer)"
      ],
      "metadata": {
        "id": "N5YULgM96Mfr"
      },
      "execution_count": null,
      "outputs": []
    },
    {
      "cell_type": "code",
      "execution_count": null,
      "metadata": {
        "id": "vhovYDMt47de"
      },
      "outputs": [],
      "source": [
        "pq = Queue()\n",
        "\n",
        "pq.enqueue({\n",
        "    'company': 'Wall Mart',\n",
        "    'timestamp': '15 apr, 11.01 AM',\n",
        "    'price': 131.10\n",
        "})\n",
        "pq.enqueue({\n",
        "    'company': 'Wall Mart',\n",
        "    'timestamp': '15 apr, 11.02 AM',\n",
        "    'price': 132\n",
        "})\n",
        "pq.enqueue({\n",
        "    'company': 'Wall Mart',\n",
        "    'timestamp': '15 apr, 11.03 AM',\n",
        "    'price': 135\n",
        "})"
      ]
    },
    {
      "cell_type": "code",
      "source": [
        "pq.size()"
      ],
      "metadata": {
        "colab": {
          "base_uri": "https://localhost:8080/"
        },
        "id": "O9L2_oM_6X3O",
        "outputId": "0658cd7e-a7d9-4dc5-986e-0674cd337a0d"
      },
      "execution_count": null,
      "outputs": [
        {
          "output_type": "execute_result",
          "data": {
            "text/plain": [
              "3"
            ]
          },
          "metadata": {},
          "execution_count": 167
        }
      ]
    },
    {
      "cell_type": "code",
      "source": [
        "pq.dequeue()"
      ],
      "metadata": {
        "colab": {
          "base_uri": "https://localhost:8080/"
        },
        "id": "KcvMKf7e6ZWz",
        "outputId": "41a8659f-2589-494b-b568-66a0d6362374"
      },
      "execution_count": null,
      "outputs": [
        {
          "output_type": "execute_result",
          "data": {
            "text/plain": [
              "{'company': 'Wall Mart', 'price': 131.1, 'timestamp': '15 apr, 11.01 AM'}"
            ]
          },
          "metadata": {},
          "execution_count": 168
        }
      ]
    },
    {
      "cell_type": "code",
      "source": [
        "pq.dequeue()\n"
      ],
      "metadata": {
        "colab": {
          "base_uri": "https://localhost:8080/"
        },
        "id": "7oJ9MuX-6cua",
        "outputId": "2e337b77-ecd6-427b-9f12-36d4105f9183"
      },
      "execution_count": null,
      "outputs": [
        {
          "output_type": "execute_result",
          "data": {
            "text/plain": [
              "{'company': 'Wall Mart', 'price': 132, 'timestamp': '15 apr, 11.02 AM'}"
            ]
          },
          "metadata": {},
          "execution_count": 169
        }
      ]
    },
    {
      "cell_type": "code",
      "source": [
        "pq.dequeue()"
      ],
      "metadata": {
        "colab": {
          "base_uri": "https://localhost:8080/"
        },
        "id": "-mexSyuQ8ac7",
        "outputId": "0ca3f160-fbd6-48a6-fd03-d0ca5a0db951"
      },
      "execution_count": null,
      "outputs": [
        {
          "output_type": "execute_result",
          "data": {
            "text/plain": [
              "{'company': 'Wall Mart', 'price': 135, 'timestamp': '15 apr, 11.03 AM'}"
            ]
          },
          "metadata": {},
          "execution_count": 170
        }
      ]
    },
    {
      "cell_type": "markdown",
      "source": [
        "# Hash Tables\n",
        "\n",
        "Internally, the hash table in Python is a dictionary. Let's walk through an exercise that uses this data structure.\n",
        "\n",
        "Suppose we want to analyze New York city weather. We have in [nyc_weather.csv](https://github.com/codebasics/data-structures-algorithms-python/blob/master/data_structures/4_HashTable_2_Collisions/Solution/nyc_weather.csv) New York city weather for the first few days in the month of January. Write a program that can answer following:\n",
        "\n",
        "* What was the average temperature in the first week of January?\n",
        "* What was the maximum temperature in the first 10 days of January?\n",
        "\n"
      ],
      "metadata": {
        "id": "CbcKP2fB5UEp"
      }
    },
    {
      "cell_type": "code",
      "source": [
        "arr = []\n",
        "\n",
        "with open(\"nyc_weather.csv\",\"r\") as f:\n",
        "    for line in f:\n",
        "        tokens = line.split(',')\n",
        "        #print(tokens)\n",
        "        try:\n",
        "            temperature = int(tokens[1])\n",
        "            arr.append(temperature)\n",
        "        except:\n",
        "            print(\"Invalid temperature.Ignore the row\")\n"
      ],
      "metadata": {
        "colab": {
          "base_uri": "https://localhost:8080/"
        },
        "id": "LTsCG6vX-iQB",
        "outputId": "750d91ac-86a1-4b0a-e40b-d59adb219a84"
      },
      "execution_count": null,
      "outputs": [
        {
          "output_type": "stream",
          "name": "stdout",
          "text": [
            "Invalid temperature.Ignore the row\n"
          ]
        }
      ]
    },
    {
      "cell_type": "code",
      "source": [
        "arr"
      ],
      "metadata": {
        "colab": {
          "base_uri": "https://localhost:8080/"
        },
        "id": "ax8icTgk-o1f",
        "outputId": "8e6a63df-a140-49f5-8ab9-ad5b347eb975"
      },
      "execution_count": null,
      "outputs": [
        {
          "output_type": "execute_result",
          "data": {
            "text/plain": [
              "[27, 31, 23, 34, 37, 38, 29, 30, 35, 30]"
            ]
          },
          "metadata": {},
          "execution_count": 173
        }
      ]
    },
    {
      "cell_type": "markdown",
      "source": [
        "What was the average temperature in first week of January?"
      ],
      "metadata": {
        "id": "oMJ-NtG6-paN"
      }
    },
    {
      "cell_type": "code",
      "source": [
        "avg_tmp = sum(arr[0:7])/len(arr[0:7])"
      ],
      "metadata": {
        "id": "AMs8GicQ-r8Q"
      },
      "execution_count": null,
      "outputs": []
    },
    {
      "cell_type": "code",
      "source": [
        "avg_tmp"
      ],
      "metadata": {
        "colab": {
          "base_uri": "https://localhost:8080/"
        },
        "id": "8ci-6nkY-wcd",
        "outputId": "3e84d5cc-15f3-4e96-ce61-28fcb564333b"
      },
      "execution_count": null,
      "outputs": [
        {
          "output_type": "execute_result",
          "data": {
            "text/plain": [
              "31.285714285714285"
            ]
          },
          "metadata": {},
          "execution_count": 175
        }
      ]
    },
    {
      "cell_type": "markdown",
      "source": [
        "What was the maximum temperature in first 10 days of January?"
      ],
      "metadata": {
        "id": "MXHumYXZ-zSO"
      }
    },
    {
      "cell_type": "code",
      "source": [
        "max_temp = max(arr[0:10])"
      ],
      "metadata": {
        "id": "yY7fzjlX-0nK"
      },
      "execution_count": null,
      "outputs": []
    },
    {
      "cell_type": "code",
      "source": [
        "max_temp"
      ],
      "metadata": {
        "colab": {
          "base_uri": "https://localhost:8080/"
        },
        "id": "n4DlKIlD-4iB",
        "outputId": "899a6d32-4392-4934-f012-cef88abd4edb"
      },
      "execution_count": null,
      "outputs": [
        {
          "output_type": "execute_result",
          "data": {
            "text/plain": [
              "38"
            ]
          },
          "metadata": {},
          "execution_count": 177
        }
      ]
    },
    {
      "cell_type": "markdown",
      "source": [
        "The best data structure to use here was a list because all we wanted was to access temperature elements.\n",
        "\n",
        "But what if we want to access temperatures for specific dates? In this case, we don't want to iterate over the whole list until we reach the temperature we're interested (could be O(N)!), it's better to use a dictionary instead (rememeber accessing elements by key in a dictionary is O(1))."
      ],
      "metadata": {
        "id": "I98YhtAo_CFB"
      }
    },
    {
      "cell_type": "code",
      "source": [
        "weather_dict = {}\n",
        "\n",
        "with open(\"nyc_weather.csv\",\"r\") as f:\n",
        "    for line in f:\n",
        "        #print(line)\n",
        "        tokens = line.split(',')\n",
        "        day = tokens[0]\n",
        "        try:\n",
        "            temperature = int(tokens[1])\n",
        "            # here we populate the dictionary\n",
        "            weather_dict[day] = temperature\n",
        "        except:\n",
        "            print(\"Invalid temperature.Ignore the row\")"
      ],
      "metadata": {
        "colab": {
          "base_uri": "https://localhost:8080/"
        },
        "id": "tap4tlcb_ZOH",
        "outputId": "88c3402f-34f8-4a49-822d-544bafbb7373"
      },
      "execution_count": null,
      "outputs": [
        {
          "output_type": "stream",
          "name": "stdout",
          "text": [
            "date,temperature(F)\n",
            "\n",
            "Invalid temperature.Ignore the row\n",
            "Jan 1,27\n",
            "\n",
            "Jan 2,31\n",
            "\n",
            "Jan 3,23\n",
            "\n",
            "Jan 4,34\n",
            "\n",
            "Jan 5,37\n",
            "\n",
            "Jan 6,38\n",
            "\n",
            "Jan 7,29\n",
            "\n",
            "Jan 8,30\n",
            "\n",
            "Jan 9,35\n",
            "\n",
            "Jan 10,30\n"
          ]
        }
      ]
    },
    {
      "cell_type": "code",
      "source": [
        "weather_dict"
      ],
      "metadata": {
        "colab": {
          "base_uri": "https://localhost:8080/"
        },
        "id": "Ck2hK_mi_bmE",
        "outputId": "2821380c-deaa-48b7-cc79-a2ce466fff9d"
      },
      "execution_count": null,
      "outputs": [
        {
          "output_type": "execute_result",
          "data": {
            "text/plain": [
              "{'Jan 1': 27,\n",
              " 'Jan 10': 30,\n",
              " 'Jan 2': 31,\n",
              " 'Jan 3': 23,\n",
              " 'Jan 4': 34,\n",
              " 'Jan 5': 37,\n",
              " 'Jan 6': 38,\n",
              " 'Jan 7': 29,\n",
              " 'Jan 8': 30,\n",
              " 'Jan 9': 35}"
            ]
          },
          "metadata": {},
          "execution_count": 179
        }
      ]
    },
    {
      "cell_type": "markdown",
      "source": [
        "What was the temperature on Jan 9? Easy:"
      ],
      "metadata": {
        "id": "J9QEEHWq_enP"
      }
    },
    {
      "cell_type": "code",
      "source": [
        "weather_dict['Jan 9']"
      ],
      "metadata": {
        "colab": {
          "base_uri": "https://localhost:8080/"
        },
        "id": "dOHXGNR__hey",
        "outputId": "0f68afe9-7029-48ef-feb7-c1f68be6902f"
      },
      "execution_count": null,
      "outputs": [
        {
          "output_type": "execute_result",
          "data": {
            "text/plain": [
              "35"
            ]
          },
          "metadata": {},
          "execution_count": 180
        }
      ]
    },
    {
      "cell_type": "markdown",
      "source": [
        "What was the temperature on Jan 4? Easy:"
      ],
      "metadata": {
        "id": "jTYn0JIU_i5w"
      }
    },
    {
      "cell_type": "code",
      "source": [
        "weather_dict['Jan 4']"
      ],
      "metadata": {
        "colab": {
          "base_uri": "https://localhost:8080/"
        },
        "id": "7pzdRKls_lJc",
        "outputId": "810a5623-b5be-47c0-c4a7-9dffb5777c85"
      },
      "execution_count": null,
      "outputs": [
        {
          "output_type": "execute_result",
          "data": {
            "text/plain": [
              "34"
            ]
          },
          "metadata": {},
          "execution_count": 181
        }
      ]
    },
    {
      "cell_type": "markdown",
      "source": [
        "# Binary Search\n",
        "\n",
        "Exercise: using Binary Search, find the indexes of all the occurances of a number in a sorted list.\n",
        "\n",
        "\n"
      ],
      "metadata": {
        "id": "aKAftpRKBr-V"
      }
    },
    {
      "cell_type": "markdown",
      "source": [
        "First let's remember the code for binary search:"
      ],
      "metadata": {
        "id": "wWZPqsfUCvTC"
      }
    },
    {
      "cell_type": "code",
      "source": [
        "def binary_search(arr, ele):\n",
        "  first = 0\n",
        "  last = len(arr) - 1\n",
        "  found = False\n",
        "  while first <= last and not found:\n",
        "    # we select the middle of the list\n",
        "    mid = (first+last)//2\n",
        "    if arr[mid] == ele:\n",
        "      found = True\n",
        "    else:\n",
        "      if ele < arr[mid]:\n",
        "        last = mid-1\n",
        "      else:\n",
        "        first = mid+1\n",
        "  return found"
      ],
      "metadata": {
        "id": "DfgCJp6h3fNA"
      },
      "execution_count": null,
      "outputs": []
    },
    {
      "cell_type": "code",
      "source": [
        "numbers = [1,4,6,9,10,5,7]"
      ],
      "metadata": {
        "id": "rqwMfKQpC8aB"
      },
      "execution_count": null,
      "outputs": []
    },
    {
      "cell_type": "markdown",
      "source": [
        "Why is it not working?"
      ],
      "metadata": {
        "id": "6rL26LpRDDyP"
      }
    },
    {
      "cell_type": "code",
      "source": [
        "binary_search(numbers, 5)"
      ],
      "metadata": {
        "colab": {
          "base_uri": "https://localhost:8080/"
        },
        "id": "isCUt0CEC2al",
        "outputId": "2cc0e77a-e369-4ee6-98bc-25a023d6a9cd"
      },
      "execution_count": null,
      "outputs": [
        {
          "output_type": "execute_result",
          "data": {
            "text/plain": [
              "False"
            ]
          },
          "metadata": {},
          "execution_count": 186
        }
      ]
    },
    {
      "cell_type": "code",
      "source": [
        "numbers.sort()\n",
        "print(numbers)\n",
        "binary_search(numbers, 5)"
      ],
      "metadata": {
        "colab": {
          "base_uri": "https://localhost:8080/"
        },
        "id": "DDN2_fvWDJU0",
        "outputId": "a3141599-c9fb-413f-c743-5d9ef055abd5"
      },
      "execution_count": null,
      "outputs": [
        {
          "output_type": "stream",
          "name": "stdout",
          "text": [
            "[1, 4, 5, 6, 7, 9, 10]\n"
          ]
        },
        {
          "output_type": "execute_result",
          "data": {
            "text/plain": [
              "True"
            ]
          },
          "metadata": {},
          "execution_count": 188
        }
      ]
    },
    {
      "cell_type": "markdown",
      "source": [
        "Oh, so that was the problem! Binary search requires the list to be sorted."
      ],
      "metadata": {
        "id": "npGFCQVeDrAA"
      }
    },
    {
      "cell_type": "markdown",
      "source": [
        "Now using binary search let's find all occurances of a particular number in a list. First we need to modify the binary_search function, so that it also returns indexes:"
      ],
      "metadata": {
        "id": "-GeCXzQeD45m"
      }
    },
    {
      "cell_type": "code",
      "source": [
        "def binary_search2(arr, ele):\n",
        "    first = 0\n",
        "    last = len(arr) - 1\n",
        "    mid = 0\n",
        "    found = False\n",
        "\n",
        "    while first <= last and not found:\n",
        "        mid = (first + last) // 2\n",
        "        mid_number = arr[mid]\n",
        "\n",
        "        if mid_number == ele:\n",
        "          found = True\n",
        "          return mid\n",
        "\n",
        "        if ele < mid_number: # this means number is in left hand side of the list\n",
        "            last = mid - 1\n",
        "        else: # number to find is on right hand side of the list\n",
        "            first = mid + 1\n",
        "\n",
        "    return found\n"
      ],
      "metadata": {
        "id": "N-4eIGSNqFkq"
      },
      "execution_count": null,
      "outputs": []
    },
    {
      "cell_type": "code",
      "source": [
        "def find_all_occurances(numbers, number_to_find):\n",
        "    # we store the first position we find the number in index\n",
        "    index = binary_search(numbers, number_to_find)\n",
        "    # next we put the index in indices variable\n",
        "    indices = [index]\n",
        "    \n",
        "    # find indices on left hand side\n",
        "    i = index-1\n",
        "    while i >=0:\n",
        "        # if the number_to_find appears here I append its index in indices\n",
        "        if numbers[i] == number_to_find:\n",
        "            indices.append(i)\n",
        "        else:\n",
        "            break\n",
        "        # I decrement i to go further to the left in the while loop\n",
        "        i = i - 1\n",
        "\n",
        "    # find indices on right hand side\n",
        "    i = index + 1\n",
        "    while i<len(numbers):\n",
        "        # if the number_to_find appears here I append its index in indices\n",
        "        if numbers[i] == number_to_find:\n",
        "            indices.append(i)\n",
        "        else:\n",
        "            break\n",
        "        # I increment i to go further in the while loop\n",
        "        i = i + 1\n",
        "\n",
        "    return sorted(indices)\n"
      ],
      "metadata": {
        "id": "P6y29ksDDyli"
      },
      "execution_count": null,
      "outputs": []
    },
    {
      "cell_type": "code",
      "source": [
        "numbers = [1,4,6,9,11,15,15,15,17,21,34,34,56]\n",
        "number_to_find = 15\n",
        "find_all_occurances(numbers, number_to_find)"
      ],
      "metadata": {
        "colab": {
          "base_uri": "https://localhost:8080/"
        },
        "id": "E3QYuLMtq_iH",
        "outputId": "eaf9af79-fbd9-47f3-b390-2b2c1bd7f723"
      },
      "execution_count": null,
      "outputs": [
        {
          "output_type": "execute_result",
          "data": {
            "text/plain": [
              "[True]"
            ]
          },
          "metadata": {},
          "execution_count": 193
        }
      ]
    },
    {
      "cell_type": "markdown",
      "source": [
        "# BFS - Breadth First Search"
      ],
      "metadata": {
        "id": "VYq3Vp1WB05L"
      }
    },
    {
      "cell_type": "markdown",
      "source": [
        "Suppose we have A, B, C, D, E, F as nodes in a graph, and the following data about the edges between them: \n",
        "\n",
        "```\n",
        "data = {\n",
        "        'A': {'B'},\n",
        "        'B': {'A', 'C', 'D'},\n",
        "        'C': {'B', 'E'},\n",
        "        'D': {'B', 'E'},\n",
        "        'E': {'C', 'D', 'F'},\n",
        "        'F': {'E'}\n",
        "}\n",
        "```\n",
        "\n",
        "![pic](https://github.com/nikhilailani/data-structures-algorithms-python/raw/master/algorithms/9_BreadthFirstSearch/DFS_BFS_Graph.png)\n",
        "\n",
        "\n",
        "Let's implement a function to find whether a path exists for a given set of nodes, and print the path if it exists. "
      ],
      "metadata": {
        "id": "ebyxYmOuMBdO"
      }
    },
    {
      "cell_type": "code",
      "source": [
        "def bfs_path(data, start, end):\n",
        "    queue = [start]\n",
        "    visited=[]\n",
        "    while queue:\n",
        "        # I select the current node for exploration\n",
        "        current_node = queue.pop(0)\n",
        "        if current_node==end:\n",
        "            print(\"Path: \" + \"->\".join(visited) + \"->\" + end)\n",
        "            return\n",
        "        # I append it to the visited nodes\n",
        "        visited.append(current_node)\n",
        "\n",
        "        # I append in queue the adjacent nodes of the current node, without the visited ones\n",
        "        for i in data[current_node] - set(visited):\n",
        "            queue.append(i)\n",
        "    print(\"Path does not exist!\")    \n",
        "    return"
      ],
      "metadata": {
        "id": "lsyF_aESMuRD"
      },
      "execution_count": null,
      "outputs": []
    },
    {
      "cell_type": "code",
      "source": [
        "data = {\n",
        "        'A': {'B'},\n",
        "        'B': {'A', 'C', 'D'},\n",
        "        'C': {'B', 'E'},\n",
        "        'D': {'B', 'E'},\n",
        "        'E': {'C', 'D', 'F'},\n",
        "        'F': {'E'}\n",
        "}"
      ],
      "metadata": {
        "id": "NixfhSRTNG_Y"
      },
      "execution_count": null,
      "outputs": []
    },
    {
      "cell_type": "code",
      "source": [
        "bfs_path(data, 'A', 'D')"
      ],
      "metadata": {
        "colab": {
          "base_uri": "https://localhost:8080/"
        },
        "id": "GGeyM5gINA6d",
        "outputId": "3a37222d-85cd-476f-9add-7369eefc263e"
      },
      "execution_count": null,
      "outputs": [
        {
          "output_type": "stream",
          "name": "stdout",
          "text": [
            "Path: A->B->D\n"
          ]
        }
      ]
    },
    {
      "cell_type": "markdown",
      "source": [
        "# Depth First Search\n",
        "\n",
        "Suppose we have the following data, regarding who reports to whom in an Indian company:\n",
        "\n",
        "```\n",
        "data = {\n",
        "        \"karan\": {\"darshan\",\"nikhil\"},\n",
        "        \"darshan\": {\"khantil\", \"tanuj\"},\n",
        "        \"tanuj\": {\"nikhil\"},\n",
        "        \"krinish\": {\"hetul\"},\n",
        "        \"khantil\" : set(),\n",
        "        \"nikhil\" : set()\n",
        " }\n",
        "```\n",
        "\n",
        "For example, if we want to find all the children nodes of Karan, the output should be:\n",
        "\n",
        "```\n",
        "karan : nikhil darshan tanuj khantil\n",
        "```\n"
      ],
      "metadata": {
        "id": "1mUPPtwJNegZ"
      }
    },
    {
      "cell_type": "markdown",
      "source": [
        "The graph looks like this:\n",
        "\n",
        "![pic](https://github.com/codebasics/data-structures-algorithms-python/blob/master/algorithms/8_DepthFirstSearch/emp.png?raw=true)\n"
      ],
      "metadata": {
        "id": "E-yZ-7QFy2PK"
      }
    },
    {
      "cell_type": "code",
      "source": [
        "def find_employees(data, start, employee):\n",
        "    # we will consider visited an empty stack, as an empty set\n",
        "    visited=set()\n",
        "    # if start not visited we print it \n",
        "    if start not in visited:\n",
        "        print(start, end = \" \") # by default end='\\n' but we want all the answer on the same line\n",
        "        # if we start the search from the employee we analyze:\n",
        "        if start == employee:\n",
        "            print(\":\", end = \" \")\n",
        "    # next we add the start node to visited\n",
        "    visited.add(start)\n",
        "\n",
        "    # next I use recursion to go visit next nodes, without the visited ones\n",
        "    for i in data[start] - visited:\n",
        "        # if not visited go in depth of it\n",
        "        find_employees(data, i, visited)\n",
        "    return\n"
      ],
      "metadata": {
        "id": "f3Kcp8qwv4gF"
      },
      "execution_count": null,
      "outputs": []
    },
    {
      "cell_type": "code",
      "source": [
        "data = {\n",
        "    \"karan\": {\"darshan\", \"nikhil\"},\n",
        "    \"darshan\": {\"khantil\", \"tanuj\"},\n",
        "    \"tanuj\": {\"nikhil\"},\n",
        "    \"krinish\": {\"hetul\"},\n",
        "    \"khantil\": set(),\n",
        "    \"nikhil\": set()\n",
        "}"
      ],
      "metadata": {
        "id": "uAsPulXQwFvt"
      },
      "execution_count": null,
      "outputs": []
    },
    {
      "cell_type": "code",
      "source": [
        "find_employees(data, \"karan\", \"karan\")"
      ],
      "metadata": {
        "colab": {
          "base_uri": "https://localhost:8080/"
        },
        "id": "is1RTH-XwIKX",
        "outputId": "c0524f4c-6300-4cc1-ee93-ca47cf6461b4"
      },
      "execution_count": null,
      "outputs": [
        {
          "output_type": "stream",
          "name": "stdout",
          "text": [
            "karan : darshan khantil tanuj nikhil nikhil "
          ]
        }
      ]
    },
    {
      "cell_type": "markdown",
      "source": [
        "# Tasks\n",
        "\n",
        "1. Write a function in python that can reverse a string using a stack data structure. Use the simpler Stack class.\n",
        "\n",
        "Example: \n",
        "\n",
        "```reverse_string(\"We will conquer COVID-19\") should return \"91-DIVOC reuqnoc lliw eW\"```\n",
        "\n"
      ],
      "metadata": {
        "id": "G7XFwGsS26RY"
      }
    },
    {
      "cell_type": "markdown",
      "source": [
        "2. Design a food ordering system where your python program will run two threads:\n",
        "\n",
        "    * Place Order: This thread will be placing an order and \n",
        "inserting that into a queue. This thread places new order every 0.5 second. (hint: use time.sleep(0.5) function)\n",
        "    * Serve Order: This thread will serve the order. All you need to do is pop the order out of the queue and print it. This thread serves an order every 2 seconds. Also start this thread 1 second after place order thread is started.\n",
        "\n",
        "Use this video to get yourself familiar with multithreading in python: https://youtu.be/PJ4t2U15ACo\n",
        "\n",
        "Pass the following list as an argument to place order thread:\n",
        "\n",
        "```orders = ['pizza','samosa','pasta','biryani','burger']```"
      ],
      "metadata": {
        "id": "Qhj4GXHY_z2D"
      }
    },
    {
      "cell_type": "markdown",
      "source": [
        "3. [poem.txt](https://github.com/codebasics/data-structures-algorithms-python/blob/master/data_structures/4_HashTable_2_Collisions/Solution/poem.txt) contains the poem \"Road not taken\" by poet Robert Frost. Read this file in Python and using a dictionary, print every word and its count as show below. \n",
        "\n",
        "``` \n",
        "'diverged': 2,\n",
        "'in': 3,\n",
        "'I': 8\n",
        " ```"
      ],
      "metadata": {
        "id": "oZA3zeKQ_0WT"
      }
    },
    {
      "cell_type": "markdown",
      "source": [
        "Source: https://github.com/codebasics/data-structures-algorithms-python"
      ],
      "metadata": {
        "id": "o5aw3tOyBB-L"
      }
    }
  ]
}