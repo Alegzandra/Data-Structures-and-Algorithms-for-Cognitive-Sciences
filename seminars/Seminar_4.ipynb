{
  "cells": [
    {
      "cell_type": "markdown",
      "id": "9d74fde2",
      "metadata": {
        "id": "9d74fde2"
      },
      "source": [
        "# WordNet"
      ]
    },
    {
      "cell_type": "code",
      "source": [
        "import nltk\n",
        "nltk.download('wordnet')"
      ],
      "metadata": {
        "id": "4kWZ9BWvLO_U",
        "colab": {
          "base_uri": "https://localhost:8080/"
        },
        "outputId": "acd27563-2e97-4251-996b-e2b509e64ef0"
      },
      "id": "4kWZ9BWvLO_U",
      "execution_count": null,
      "outputs": [
        {
          "output_type": "stream",
          "name": "stdout",
          "text": [
            "[nltk_data] Downloading package wordnet to /root/nltk_data...\n",
            "[nltk_data]   Unzipping corpora/wordnet.zip.\n"
          ]
        },
        {
          "output_type": "execute_result",
          "data": {
            "text/plain": [
              "True"
            ]
          },
          "metadata": {},
          "execution_count": 1
        }
      ]
    },
    {
      "cell_type": "code",
      "execution_count": null,
      "id": "78ff5d8d",
      "metadata": {
        "id": "78ff5d8d"
      },
      "outputs": [],
      "source": [
        "from nltk.corpus import wordnet as wn"
      ]
    },
    {
      "cell_type": "code",
      "source": [
        "def check_common_synonyms(w1, w2):\n",
        "  w1_sysnets = set(wn.synsets(w1))\n",
        "  w2_sysnets = set(wn.synsets(w2))\n",
        "\n",
        "  if w1_sysnets.intersection(w2_sysnets):\n",
        "    print(\"sunt Sinonime\")\n",
        "  print(\"nu sunt sinonime\")\n",
        "\n",
        "check_common_synonyms('work', 'large')\n"
      ],
      "metadata": {
        "colab": {
          "base_uri": "https://localhost:8080/"
        },
        "id": "RZKDkTkMF7rN",
        "outputId": "ff8997e1-dd0d-4fe4-c2fc-462bd6a34128"
      },
      "id": "RZKDkTkMF7rN",
      "execution_count": null,
      "outputs": [
        {
          "output_type": "stream",
          "name": "stdout",
          "text": [
            "nu sunt sinonime\n"
          ]
        }
      ]
    },
    {
      "cell_type": "markdown",
      "id": "9628477d",
      "metadata": {
        "id": "9628477d"
      },
      "source": [
        "WordNet is a lexical database that contains semantic relationships between words. \n",
        "\n",
        "WordNet contains nouns, verbs, adjectives, and adverbs grouped in subsets of words with the same meaning. \n",
        "\n",
        "The basic unit is the **synset**, a subset of words that describes the same concept. A word can be part of several synsets (it has several meanings / it is polysemous)."
      ]
    },
    {
      "cell_type": "code",
      "execution_count": null,
      "id": "e04bb352",
      "metadata": {
        "id": "e04bb352",
        "outputId": "e20e578e-a5cd-4e05-86e8-13e215d29141",
        "colab": {
          "base_uri": "https://localhost:8080/"
        }
      },
      "outputs": [
        {
          "output_type": "stream",
          "name": "stdout",
          "text": [
            "[Synset('school.n.01'), Synset('school.n.02'), Synset('school.n.03'), Synset('school.n.04'), Synset('school.n.05'), Synset('school.n.06'), Synset('school.n.07'), Synset('school.v.01'), Synset('educate.v.03'), Synset('school.v.03')]\n"
          ]
        }
      ],
      "source": [
        "# all synsets for the word \"school\"\n",
        "school_synsets = wn.synsets(\"school\")\n",
        "print(school_synsets)"
      ]
    },
    {
      "cell_type": "code",
      "execution_count": null,
      "id": "a4d908a9",
      "metadata": {
        "id": "a4d908a9"
      },
      "outputs": [],
      "source": [
        "syn = school_synsets[5]  # school.n.02"
      ]
    },
    {
      "cell_type": "markdown",
      "id": "0b6711f9",
      "metadata": {
        "id": "0b6711f9"
      },
      "source": [
        "For each synset we can show its definition:"
      ]
    },
    {
      "cell_type": "code",
      "execution_count": null,
      "id": "0a21303a",
      "metadata": {
        "id": "0a21303a",
        "outputId": "54af9565-65f6-482f-84db-65769f31b355",
        "colab": {
          "base_uri": "https://localhost:8080/"
        }
      },
      "outputs": [
        {
          "output_type": "stream",
          "name": "stdout",
          "text": [
            "an educational institution's faculty and students\n"
          ]
        }
      ],
      "source": [
        "print(syn.definition())"
      ]
    },
    {
      "cell_type": "markdown",
      "id": "aa43f0cb",
      "metadata": {
        "id": "aa43f0cb"
      },
      "source": [
        "WordNet also contains examples of usage in text for words in a synset."
      ]
    },
    {
      "cell_type": "code",
      "execution_count": null,
      "id": "a5ec2083",
      "metadata": {
        "id": "a5ec2083",
        "outputId": "8b6cb5b1-22ec-4209-9e2f-dea7bf6e0232",
        "colab": {
          "base_uri": "https://localhost:8080/"
        }
      },
      "outputs": [
        {
          "output_type": "stream",
          "name": "stdout",
          "text": [
            "['the school keeps parents informed', 'the whole school turned out for the game']\n"
          ]
        }
      ],
      "source": [
        "print(syn.examples())"
      ]
    },
    {
      "cell_type": "markdown",
      "id": "62f396d0",
      "metadata": {
        "id": "62f396d0"
      },
      "source": [
        "We can display for a synset all the lemmas (dictionary forms) of words that have that meaning."
      ]
    },
    {
      "cell_type": "code",
      "execution_count": null,
      "id": "dd05affe",
      "metadata": {
        "id": "dd05affe",
        "outputId": "77732e07-7b5b-4cab-d134-3741b846a619",
        "colab": {
          "base_uri": "https://localhost:8080/"
        }
      },
      "outputs": [
        {
          "output_type": "stream",
          "name": "stdout",
          "text": [
            "[Lemma('school.n.06.school')]\n",
            "['school']\n"
          ]
        }
      ],
      "source": [
        "print(syn.lemmas())\n",
        "print(syn.lemma_names())"
      ]
    },
    {
      "cell_type": "markdown",
      "id": "5624da24",
      "metadata": {
        "id": "5624da24"
      },
      "source": [
        "But WordNet is not just a division of words into meanings. This resource is also valuable through the multitude of relationships it defines between synsets.\n",
        "\n",
        "WordNet synsets are divided into nouns (*n*), adjectives (*a*, *s*), verbs (*v*), and adverbs (*r*). The main relationships are defined between synsets corresponding to the same parts of speech (PoS - Part-of-Speech), but there are also cross-PoS relationships."
      ]
    },
    {
      "cell_type": "markdown",
      "id": "40f6f18b",
      "metadata": {
        "id": "40f6f18b"
      },
      "source": [
        "## Types of relationships for nouns"
      ]
    },
    {
      "cell_type": "markdown",
      "id": "eef79bd9",
      "metadata": {
        "id": "eef79bd9"
      },
      "source": [
        "### 1. Hypernyms/Hyponyms\n",
        "\n",
        "We say that the meaning s1 is a hypernym of the meaning s2 if s1 incorporates the meaning of s2. In other words, s2 is a kind of s1 (is a type of s1).\n",
        "\n",
        "The opposite of the hypernymy relation is the hyponymy relation (s2 is a hyponym for s1)."
      ]
    },
    {
      "cell_type": "code",
      "execution_count": null,
      "id": "58da0be9",
      "metadata": {
        "id": "58da0be9",
        "outputId": "ff2fecfd-5ee9-48a1-e7a3-4f832cc30b4d",
        "colab": {
          "base_uri": "https://localhost:8080/"
        }
      },
      "outputs": [
        {
          "output_type": "stream",
          "name": "stdout",
          "text": [
            "Hypernyms: [Synset('educational_institution.n.01')]\n",
            "Hyponyms: [Synset('academy.n.03'), Synset('alma_mater.n.01'), Synset('conservatory.n.01'), Synset('correspondence_school.n.01'), Synset('crammer.n.03'), Synset('dance_school.n.01'), Synset('dancing_school.n.01'), Synset('day_school.n.02'), Synset('direct-grant_school.n.01'), Synset('driving_school.n.01'), Synset('finishing_school.n.01'), Synset('flying_school.n.01'), Synset('grade_school.n.01'), Synset('graduate_school.n.01'), Synset('language_school.n.01'), Synset('night_school.n.01'), Synset('nursing_school.n.01'), Synset('private_school.n.01'), Synset('public_school.n.01'), Synset('religious_school.n.01'), Synset('riding_school.n.01'), Synset('secondary_school.n.01'), Synset('secretarial_school.n.01'), Synset('sunday_school.n.01'), Synset('technical_school.n.01'), Synset('training_school.n.01'), Synset('veterinary_school.n.01')]\n"
          ]
        }
      ],
      "source": [
        "syn = wn.synset('school.n.01')\n",
        "print(\"Hypernyms:\", syn.hypernyms())\n",
        "print(\"Hyponyms:\", syn.hyponyms())"
      ]
    },
    {
      "cell_type": "markdown",
      "id": "6545a6d9",
      "metadata": {
        "id": "6545a6d9"
      },
      "source": [
        "### 2. Meronyms/Holonyms\n",
        "\n",
        "We say that the meaning $ s_1 $ is a holonym of the meaning $ s_2 $ if $ s_1 $ \"contains\" $ s_2 $. Holonyms are of 3 types:\n",
        "  - part (part of)\n",
        "  - substance (made of)\n",
        "  - member (contains)\n",
        " \n",
        "Conversely, we say that $ s_2 $ is a meronym for $ s_1 $."
      ]
    },
    {
      "cell_type": "code",
      "execution_count": null,
      "id": "f74a2644",
      "metadata": {
        "id": "f74a2644",
        "colab": {
          "base_uri": "https://localhost:8080/"
        },
        "outputId": "7817890b-6836-4075-d1c4-61d208ad0037"
      },
      "outputs": [
        {
          "output_type": "stream",
          "name": "stdout",
          "text": [
            "[Synset('body_of_water.n.01'), Synset('ice.n.01'), Synset('ice_crystal.n.01'), Synset('perspiration.n.01'), Synset('snowflake.n.01'), Synset('tear.n.01')]\n",
            "[Synset('hydrogen.n.01'), Synset('oxygen.n.01')]\n"
          ]
        }
      ],
      "source": [
        "syn = wn.synset('water.n.01')\n",
        "print(syn.substance_holonyms())\n",
        "print(syn.substance_meronyms())"
      ]
    },
    {
      "cell_type": "code",
      "execution_count": null,
      "id": "9b6ed6a4",
      "metadata": {
        "id": "9b6ed6a4",
        "colab": {
          "base_uri": "https://localhost:8080/"
        },
        "outputId": "05fa3838-0a8c-4e3d-8211-d4e8abd9cdf1"
      },
      "outputs": [
        {
          "output_type": "stream",
          "name": "stdout",
          "text": [
            "[Synset('central_nervous_system.n.01'), Synset('head.n.01')]\n",
            "[Synset('brain_cell.n.01'), Synset('brainstem.n.01'), Synset('circle_of_willis.n.01'), Synset('communicating_artery.n.01'), Synset('forebrain.n.01'), Synset('hindbrain.n.01'), Synset('midbrain.n.01'), Synset('neencephalon.n.01'), Synset('ventricle.n.01')]\n"
          ]
        }
      ],
      "source": [
        "syn = wn.synset('brain.n.01')\n",
        "print(syn.part_holonyms())\n",
        "print(syn.part_meronyms())"
      ]
    },
    {
      "cell_type": "code",
      "execution_count": null,
      "id": "1a3b6673",
      "metadata": {
        "id": "1a3b6673",
        "colab": {
          "base_uri": "https://localhost:8080/"
        },
        "outputId": "fbb213a4-80af-4831-9b5f-8408c32d514f"
      },
      "outputs": [
        {
          "output_type": "stream",
          "name": "stdout",
          "text": [
            "[]\n",
            "[]\n"
          ]
        }
      ],
      "source": [
        "syn = wn.synset('community.n.01')\n",
        "print(syn.member_holonyms())\n",
        "print(syn.member_meronyms())"
      ]
    },
    {
      "cell_type": "markdown",
      "id": "294f4ced",
      "metadata": {
        "id": "294f4ced"
      },
      "source": [
        "## Types of relationships for verbs"
      ]
    },
    {
      "cell_type": "markdown",
      "id": "5b06c019",
      "metadata": {
        "id": "5b06c019"
      },
      "source": [
        "### 1. Hypernyms/Hyponyms\n",
        "\n",
        "Similar to the description from nouns. Hyponyms can be seen here as defining the same action but in a narrower context. For example, \"to jog\" or \"to sprint\" is a more specific variant of the verb \"to run\".\n",
        "\n",
        "Hyponyms for verbs are also called troponyms."
      ]
    },
    {
      "cell_type": "code",
      "execution_count": null,
      "id": "f2a32e14",
      "metadata": {
        "id": "f2a32e14",
        "outputId": "089e314b-5c85-4150-a15b-1e9fb4a6deb6",
        "colab": {
          "base_uri": "https://localhost:8080/"
        }
      },
      "outputs": [
        {
          "output_type": "stream",
          "name": "stdout",
          "text": [
            "[Synset('travel_rapidly.v.01')]\n",
            "[Synset('hare.v.01'), Synset('jog.v.03'), Synset('lope.v.01'), Synset('outrun.v.01'), Synset('romp.v.02'), Synset('run.v.33'), Synset('run_bases.v.01'), Synset('rush.v.05'), Synset('scurry.v.01'), Synset('sprint.v.01'), Synset('streak.v.02'), Synset('trot.v.01')]\n"
          ]
        }
      ],
      "source": [
        "syn = wn.synset('run.v.01')\n",
        "print(syn.hypernyms())\n",
        "print(syn.hyponyms())"
      ]
    },
    {
      "cell_type": "markdown",
      "id": "99fa6e47",
      "metadata": {
        "id": "99fa6e47"
      },
      "source": [
        "### 2. Entailment\n",
        "\n",
        "It defines what actions are necessary for another action to take place."
      ]
    },
    {
      "cell_type": "code",
      "execution_count": null,
      "id": "0a6f3fad",
      "metadata": {
        "id": "0a6f3fad",
        "outputId": "bec8df09-78e5-4ef0-d502-4adf4568d99f",
        "colab": {
          "base_uri": "https://localhost:8080/"
        }
      },
      "outputs": [
        {
          "output_type": "stream",
          "name": "stdout",
          "text": [
            "[Synset('sleep.v.01')]\n",
            "[Synset('choose.v.01'), Synset('pay.v.01')]\n",
            "[Synset('step.v.01')]\n"
          ]
        }
      ],
      "source": [
        "print(wn.synset('snore.v.01').entailments())\n",
        "print(wn.synset('buy.v.01').entailments())\n",
        "print(wn.synset('dance.v.01').entailments())"
      ]
    },
    {
      "cell_type": "markdown",
      "id": "0bcb32fc",
      "metadata": {
        "id": "0bcb32fc"
      },
      "source": [
        "## Types of relationships for adverbs"
      ]
    },
    {
      "cell_type": "markdown",
      "id": "374f8ba4",
      "metadata": {
        "id": "374f8ba4"
      },
      "source": [
        "### 1. Antonymy\n",
        "We determine antonyms at lemma level (not synset level).\n"
      ]
    },
    {
      "cell_type": "code",
      "execution_count": null,
      "id": "f1eee98b",
      "metadata": {
        "id": "f1eee98b",
        "outputId": "79f33659-3fea-4f8d-8aba-73d2e1b9b790",
        "colab": {
          "base_uri": "https://localhost:8080/"
        }
      },
      "outputs": [
        {
          "output_type": "stream",
          "name": "stdout",
          "text": [
            "[Lemma('good.a.01.good')]\n",
            "[Lemma('bad.a.01.bad')]\n"
          ]
        }
      ],
      "source": [
        "print(wn.synset('good.a.01').lemmas())\n",
        "lem = wn.synset('good.a.01').lemmas()[0]\n",
        "print(lem.antonyms())"
      ]
    },
    {
      "cell_type": "markdown",
      "id": "89c5fe3a",
      "metadata": {
        "id": "89c5fe3a"
      },
      "source": [
        "### 2. Synonymy"
      ]
    },
    {
      "cell_type": "code",
      "execution_count": null,
      "id": "59d7be8b",
      "metadata": {
        "id": "59d7be8b",
        "outputId": "a2552d94-aedb-4547-8888-cc0a5d7d514e",
        "colab": {
          "base_uri": "https://localhost:8080/"
        }
      },
      "outputs": [
        {
          "output_type": "stream",
          "name": "stdout",
          "text": [
            "[Synset('beardown.s.01'), Synset('beefed-up.s.01'), Synset('brawny.s.01'), Synset('bullnecked.s.01'), Synset('bullocky.s.01'), Synset('fortified.s.02'), Synset('hard.s.04'), Synset('industrial-strength.s.01'), Synset('ironlike.s.01'), Synset('knock-down.s.01'), Synset('noticeable.s.04'), Synset('reinforced.s.01'), Synset('robust.s.03'), Synset('stiff.s.02'), Synset('vehement.s.02'), Synset('virile.s.01'), Synset('well-knit.s.01')]\n",
            "[Synset('adynamic.s.02'), Synset('anemic.s.01'), Synset('faint.s.03'), Synset('feeble.s.01'), Synset('flimsy.s.01'), Synset('jerry-built.s.01'), Synset('namby-pamby.s.01'), Synset('pale.s.02'), Synset('puny.s.01'), Synset('vulnerable.s.03'), Synset('weakened.s.02')]\n"
          ]
        }
      ],
      "source": [
        "syn = wn.synset('strong.a.01')\n",
        "print(syn.similar_tos())\n",
        "syn2 = wn.synset('weak.a.01')\n",
        "print(syn2.similar_tos())"
      ]
    },
    {
      "cell_type": "markdown",
      "id": "5ebe0c71",
      "metadata": {
        "id": "5ebe0c71"
      },
      "source": [
        "## Types of relationships for adverbs"
      ]
    },
    {
      "cell_type": "markdown",
      "id": "7f5e9bad",
      "metadata": {
        "id": "7f5e9bad"
      },
      "source": [
        "### Antonyms"
      ]
    },
    {
      "cell_type": "code",
      "execution_count": null,
      "id": "6b18366d",
      "metadata": {
        "id": "6b18366d",
        "outputId": "1ff8f8b2-813b-40f5-bd70-20c1ec62bcfc",
        "colab": {
          "base_uri": "https://localhost:8080/"
        }
      },
      "outputs": [
        {
          "output_type": "stream",
          "name": "stdout",
          "text": [
            "[Lemma('slowly.r.01.slowly')]\n"
          ]
        }
      ],
      "source": [
        "lem = wn.synset('quickly.r.01').lemmas()[0]\n",
        "print(lem.antonyms())"
      ]
    },
    {
      "cell_type": "markdown",
      "id": "7baa898a",
      "metadata": {
        "id": "7baa898a"
      },
      "source": [
        "## Tipuri de relatii cross-PoS"
      ]
    },
    {
      "cell_type": "markdown",
      "id": "6a08600f",
      "metadata": {
        "id": "6a08600f"
      },
      "source": [
        "### 1. Attributes (nouns <-> adjectives)\n",
        "\n",
        "This relationship links a $s_1$ synset of a noun to a $s_2$ synset of an adjective if \"$s_2$ can be a value for $s_1$\"."
      ]
    },
    {
      "cell_type": "code",
      "execution_count": null,
      "id": "34519d80",
      "metadata": {
        "id": "34519d80",
        "outputId": "b71a65c1-d5c6-4dc6-e4ca-ba594b33eea7",
        "colab": {
          "base_uri": "https://localhost:8080/"
        }
      },
      "outputs": [
        {
          "output_type": "stream",
          "name": "stdout",
          "text": [
            "[Synset('delicate.a.01'), Synset('rugged.a.01'), Synset('strong.a.01'), Synset('weak.a.01')]\n",
            "[Synset('strength.n.01')]\n",
            "[Synset('strength.n.01')]\n"
          ]
        }
      ],
      "source": [
        "print(wn.synset('strength.n.01').attributes())\n",
        "print(wn.synset('strong.a.01').attributes())\n",
        "print(wn.synset('weak.a.01').attributes())"
      ]
    },
    {
      "cell_type": "markdown",
      "id": "902eac40",
      "metadata": {
        "id": "902eac40"
      },
      "source": [
        "### 2. Pertainyms (for adjectives and adverbs)\n",
        "\n",
        "Returns concepts that refer to the qualities described by adjectives / adverbs."
      ]
    },
    {
      "cell_type": "code",
      "execution_count": null,
      "id": "8dfecc6a",
      "metadata": {
        "id": "8dfecc6a",
        "outputId": "4b2cd428-3ee4-43c5-c715-db30a24f7d63",
        "colab": {
          "base_uri": "https://localhost:8080/"
        }
      },
      "outputs": [
        {
          "output_type": "stream",
          "name": "stdout",
          "text": [
            "[Lemma('technique.n.01.technique')]\n",
            "[Lemma('artist.n.01.artist')]\n"
          ]
        }
      ],
      "source": [
        "lem = wn.synset('technical.a.01').lemmas()[0]\n",
        "print(lem.pertainyms())\n",
        "lem1 = wn.synset('artistic.a.01').lemmas()[0]\n",
        "print(lem1.pertainyms())"
      ]
    },
    {
      "cell_type": "code",
      "execution_count": null,
      "id": "324ae421",
      "metadata": {
        "id": "324ae421",
        "outputId": "99f9df83-7dd2-4520-c985-501b6e75ca6f",
        "colab": {
          "base_uri": "https://localhost:8080/"
        }
      },
      "outputs": [
        {
          "output_type": "stream",
          "name": "stdout",
          "text": [
            "[Lemma('quick.s.01.quick')]\n",
            "[Lemma('artistic.s.02.artistic')]\n"
          ]
        }
      ],
      "source": [
        "lem = wn.synset('quickly.r.01').lemmas()[0]\n",
        "print(lem.pertainyms())\n",
        "lem1 = wn.synset('artistically.r.01').lemmas()[0]\n",
        "print(lem1.pertainyms())"
      ]
    },
    {
      "cell_type": "markdown",
      "id": "5524ffaa",
      "metadata": {
        "id": "5524ffaa"
      },
      "source": [
        "## Visualisation\n",
        "\n",
        "You can use this platform to view relationships in WordNet: [http://wordvis.com/](http://wordvis.com/)."
      ]
    },
    {
      "cell_type": "markdown",
      "id": "dfb19158",
      "metadata": {
        "id": "dfb19158"
      },
      "source": [
        "## Relationship graph for hypernyms\n",
        "\n",
        "If we consider the node synsets in a graph, and the relations of the form $ s_1 $ is hypernym for $ s_2 $, we can associate an edge oriented from $ s_2 $ to $ s_1 $ and we obtain an oriented graph.\n",
        "\n",
        "![](https://www.researchgate.net/profile/Zhao-Lu-3/publication/261351248/figure/fig1/AS:669012354691096@1536516383841/A-DAG-fragment-of-WordNet-30.ppm)\n",
        "\n",
        "A hypernym path for a synset is a graph path from its node to a root node (with output degree $ 0 $). Note that there may be several such paths for a synset."
      ]
    },
    {
      "cell_type": "code",
      "execution_count": null,
      "id": "861b6943",
      "metadata": {
        "id": "861b6943",
        "outputId": "ec661675-119a-4771-bb1d-64bfb89a431d",
        "colab": {
          "base_uri": "https://localhost:8080/"
        }
      },
      "outputs": [
        {
          "output_type": "stream",
          "name": "stdout",
          "text": [
            "[Synset('entity.n.01'), Synset('physical_entity.n.01'), Synset('matter.n.03'), Synset('substance.n.01'), Synset('material.n.01'), Synset('chemical.n.01'), Synset('compound.n.02'), Synset('binary_compound.n.01'), Synset('water.n.01')]\n",
            "[Synset('entity.n.01'), Synset('abstraction.n.06'), Synset('relation.n.01'), Synset('part.n.01'), Synset('substance.n.01'), Synset('material.n.01'), Synset('chemical.n.01'), Synset('compound.n.02'), Synset('binary_compound.n.01'), Synset('water.n.01')]\n",
            "[Synset('entity.n.01'), Synset('physical_entity.n.01'), Synset('matter.n.03'), Synset('fluid.n.02'), Synset('liquid.n.03'), Synset('water.n.01')]\n",
            "3\n"
          ]
        }
      ],
      "source": [
        "syn = wn.synset(\"water.n.01\")\n",
        "paths = syn.hypernym_paths()\n",
        "print(paths[0])\n",
        "print(paths[1])\n",
        "print(paths[2])\n",
        "print(len(paths))"
      ]
    },
    {
      "cell_type": "code",
      "execution_count": null,
      "id": "66e139c2",
      "metadata": {
        "id": "66e139c2",
        "outputId": "aca7dc73-8ab2-468d-fa3b-695cd18056b6",
        "colab": {
          "base_uri": "https://localhost:8080/"
        }
      },
      "outputs": [
        {
          "output_type": "stream",
          "name": "stdout",
          "text": [
            "water.n.01 -> binary_compound.n.01 -> compound.n.02 -> chemical.n.01 -> material.n.01 -> substance.n.01 -> matter.n.03 -> physical_entity.n.01 -> entity.n.01\n"
          ]
        }
      ],
      "source": [
        "path = paths[0][::-1]\n",
        "print(\" -> \".join(n.name() for n in path))"
      ]
    },
    {
      "cell_type": "markdown",
      "id": "863a367f",
      "metadata": {
        "id": "863a367f"
      },
      "source": [
        "We define the depth of a synset as the length of the longest such hypernym path.\n",
        "\n",
        "We call the lowest common hypernym of the two synsts (s1 and s2), the synset (or synsets) with maximum depth that is on at least one hypernym path of s1 and on at least one hypernym path of s2.\n",
        "\n",
        "In the example above the lowest common hypernym for \"bus # 1\" and \"engine\" is \"public transport\"."
      ]
    },
    {
      "cell_type": "markdown",
      "id": "b668beeb",
      "metadata": {
        "id": "b668beeb"
      },
      "source": [
        "Based on these paths, we can compute a similarity score between two synsets."
      ]
    },
    {
      "cell_type": "code",
      "execution_count": null,
      "id": "c6d31f86",
      "metadata": {
        "id": "c6d31f86",
        "outputId": "1a8d56a4-c389-4e8a-89a3-2aee5453c593",
        "colab": {
          "base_uri": "https://localhost:8080/"
        }
      },
      "outputs": [
        {
          "output_type": "stream",
          "name": "stdout",
          "text": [
            "dog ~ cat: 0.2\n",
            "dog ~ plane: 0.07142857142857142\n",
            "train ~ plane: 0.125\n"
          ]
        }
      ],
      "source": [
        "dog = wn.synset('dog.n.01')\n",
        "cat = wn.synset('cat.n.01')\n",
        "plane = wn.synset('plane.n.01')\n",
        "train = wn.synset('train.n.01')\n",
        "\n",
        "print(\"dog ~ cat:\", dog.path_similarity(cat))\n",
        "print(\"dog ~ plane:\", dog.path_similarity(plane))\n",
        "print(\"train ~ plane:\", train.path_similarity(plane))"
      ]
    },
    {
      "cell_type": "markdown",
      "id": "90b36bd7",
      "metadata": {
        "id": "90b36bd7"
      },
      "source": [
        "# TASK\n",
        "\n",
        "1. Implement a function that displays for a word the definitions of all the synsets of which the word is a part.\n",
        "2. Implement a function that checks if two words $ w_1 $ and $ w_2 $ have at least one common synset. In other words, check if $ w_1 $ and $ w_2 $ are synonymous.\n",
        "3. Implement a function that for a given synset displays all its holonyms and all its meronyms.\n",
        "4. Implement a function that displays for a given synset all the hypernyme paths corresponding to it.\n",
        "5. Implement a function that for two synsets determines the lowest common hypernym (s) and displays the definition of these common meanings (you can search the method .lowest_common_hypernyms()).\n",
        "6. Implement a function that displays its synonyms and antonyms (for all meanings of a word) for a word."
      ]
    }
  ],
  "metadata": {
    "kernelspec": {
      "display_name": "lab-nlp-an3",
      "language": "python",
      "name": "lab-nlp-an3"
    },
    "language_info": {
      "codemirror_mode": {
        "name": "ipython",
        "version": 3
      },
      "file_extension": ".py",
      "mimetype": "text/x-python",
      "name": "python",
      "nbconvert_exporter": "python",
      "pygments_lexer": "ipython3",
      "version": "3.8.10"
    },
    "colab": {
      "provenance": []
    }
  },
  "nbformat": 4,
  "nbformat_minor": 5
}