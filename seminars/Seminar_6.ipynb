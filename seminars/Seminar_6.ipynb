{
  "nbformat": 4,
  "nbformat_minor": 0,
  "metadata": {
    "colab": {
      "provenance": []
    },
    "kernelspec": {
      "name": "python3",
      "display_name": "Python 3"
    },
    "language_info": {
      "name": "python"
    }
  },
  "cells": [
    {
      "cell_type": "markdown",
      "source": [
        "# Seminar 6"
      ],
      "metadata": {
        "id": "qipcPsCneoEc"
      }
    },
    {
      "cell_type": "markdown",
      "source": [
        "## Sorting\n",
        "\n",
        "\n",
        "https://visualgo.net/en/sorting"
      ],
      "metadata": {
        "id": "pM5jeFmB4Srh"
      }
    },
    {
      "cell_type": "markdown",
      "source": [
        "### 1. Bubble Sort\n",
        "\n",
        "The bubble sort makes multiple passes through a list. It compares adjacent items and exchanges those that are out of order. Each pass through the list places the next largest value in its proper place. In essence, each item “bubbles” up to the location where it belongs."
      ],
      "metadata": {
        "id": "Dh0PKe6L4eYn"
      }
    },
    {
      "cell_type": "code",
      "source": [
        "def bubble_sort(arr):\n",
        "    # For every element (arranged backwards)\n",
        "    for n in range(len(arr)-1,0,-1):\n",
        "        # we create the second loop that goes forward through the list\n",
        "        for k in range(n):\n",
        "            # If we come to a point to switch\n",
        "            if arr[k]>arr[k+1]:\n",
        "                temp = arr[k]\n",
        "                arr[k] = arr[k+1]\n",
        "                arr[k+1] = temp\n",
        "    return arr"
      ],
      "metadata": {
        "id": "JJwwhxLg4Wh2"
      },
      "execution_count": null,
      "outputs": []
    },
    {
      "cell_type": "code",
      "source": [
        "arr = [3,2,13,4,6,5,7,8,1,20]\n",
        "bubble_sort(arr)"
      ],
      "metadata": {
        "colab": {
          "base_uri": "https://localhost:8080/"
        },
        "id": "pDKAyF8k5IF5",
        "outputId": "5b69c544-41a2-49e6-a336-519787e5e359"
      },
      "execution_count": null,
      "outputs": [
        {
          "output_type": "execute_result",
          "data": {
            "text/plain": [
              "[1, 2, 3, 4, 5, 6, 7, 8, 13, 20]"
            ]
          },
          "metadata": {},
          "execution_count": 33
        }
      ]
    },
    {
      "cell_type": "code",
      "source": [
        "arr"
      ],
      "metadata": {
        "colab": {
          "base_uri": "https://localhost:8080/"
        },
        "id": "8lvi8qSf5biO",
        "outputId": "d190277a-71ad-405f-bfc9-958643a80ac9"
      },
      "execution_count": null,
      "outputs": [
        {
          "output_type": "execute_result",
          "data": {
            "text/plain": [
              "[1, 2, 3, 4, 5, 6, 7, 8, 13, 20]"
            ]
          },
          "metadata": {},
          "execution_count": 3
        }
      ]
    },
    {
      "cell_type": "markdown",
      "source": [
        "**Exercise** \n",
        "\n",
        "Modify bubble_sort function such that it can sort following list of transactions happening in an electronic store,\n",
        "\n",
        "```\n",
        "elements = [\n",
        "        { 'name': 'mona',   'transaction_amount': 1000, 'device': 'iphone-10'},\n",
        "        { 'name': 'dhaval', 'transaction_amount': 400,  'device': 'google pixel'},\n",
        "        { 'name': 'kathy',  'transaction_amount': 200,  'device': 'vivo'},\n",
        "        { 'name': 'aamir',  'transaction_amount': 800,  'device': 'iphone-8'},\n",
        "    ]\n",
        "```\n",
        "\n",
        "The function should be able to take a key as input variable and sort the ```elements``` list upon that key.\n",
        "\n",
        "For instance:\n",
        "\n",
        "```\n",
        "bubble_sort(elements, key='transaction_amount')\n",
        "```\n",
        "\n",
        "should give the following output:\n",
        "\n",
        "```\n",
        "elements = [\n",
        "        { 'name': 'kathy',  'transaction_amount': 200,  'device': 'vivo'},\n",
        "        { 'name': 'dhaval', 'transaction_amount': 400,  'device': 'google pixel'},\n",
        "        { 'name': 'aamir',  'transaction_amount': 800,  'device': 'iphone-8'},\n",
        "        { 'name': 'mona',   'transaction_amount': 1000, 'device': 'iphone-10'},\n",
        "    ]\n",
        "```"
      ],
      "metadata": {
        "id": "Rpe0g_Wa7kOd"
      }
    },
    {
      "cell_type": "code",
      "source": [
        "def bubble_sort2(elements, key):\n",
        "    # elements is a list of dictionaries\n",
        "    size = len(elements)\n",
        "    # we iterate through the list\n",
        "    for i in range(size-1):\n",
        "        swapped = False\n",
        "        # we iterate again to compare by key\n",
        "        for j in range(size-1-i):\n",
        "            a = elements[j][key]\n",
        "            b = elements[j+1][key]\n",
        "            if a > b:\n",
        "                tmp = elements[j]\n",
        "                elements[j] = elements[j+1]\n",
        "                elements[j+1] = tmp\n",
        "                swapped = True\n",
        "\n",
        "        if not swapped:\n",
        "            break\n",
        "\n"
      ],
      "metadata": {
        "id": "8Mqgczem8V99"
      },
      "execution_count": null,
      "outputs": []
    },
    {
      "cell_type": "code",
      "source": [
        "elements = [\n",
        "        { 'name': 'mona',   'transaction_amount': 1000, 'device': 'iphone-10'},\n",
        "        { 'name': 'dhaval', 'transaction_amount': 400,  'device': 'google pixel'},\n",
        "        { 'name': 'kathy',  'transaction_amount': 200,  'device': 'vivo'},\n",
        "        { 'name': 'aamir',  'transaction_amount': 800,  'device': 'iphone-8'},\n",
        "    ]"
      ],
      "metadata": {
        "id": "Fb-PCYLL8l5j"
      },
      "execution_count": null,
      "outputs": []
    },
    {
      "cell_type": "code",
      "source": [
        "bubble_sort2(elements, key='name')\n"
      ],
      "metadata": {
        "id": "jgyzlu858mjb"
      },
      "execution_count": null,
      "outputs": []
    },
    {
      "cell_type": "code",
      "source": [
        "import pprint\n",
        "pprint.pprint(elements)"
      ],
      "metadata": {
        "colab": {
          "base_uri": "https://localhost:8080/"
        },
        "id": "TYy3YChl86aD",
        "outputId": "d61a3c43-102d-42d9-8e06-70c3600900e2"
      },
      "execution_count": null,
      "outputs": [
        {
          "output_type": "stream",
          "name": "stdout",
          "text": [
            "[{'device': 'iphone-8', 'name': 'aamir', 'transaction_amount': 800},\n",
            " {'device': 'google pixel', 'name': 'dhaval', 'transaction_amount': 400},\n",
            " {'device': 'vivo', 'name': 'kathy', 'transaction_amount': 200},\n",
            " {'device': 'iphone-10', 'name': 'mona', 'transaction_amount': 1000}]\n"
          ]
        }
      ]
    },
    {
      "cell_type": "markdown",
      "source": [
        "## 2. Selection Sort\n",
        "\n",
        "The selection sort improves on the bubble sort by making only one exchange for every pass through the list. In order to do this, a selection sort looks for the largest value as it makes a pass and, after completing the pass, places it in the proper location. \n",
        "\n",
        "As with a bubble sort, after the first pass, the largest item is in the *correct* place. After the second pass, the next largest is in place. This process continues and requires n−1 passes to sort n items, since the final item must be in place after the (n−1)<sup>st</sup> pass."
      ],
      "metadata": {
        "id": "zI3KYN9O5-fW"
      }
    },
    {
      "cell_type": "code",
      "source": [
        "def selection_sort(my_list):\n",
        "    for i in range(len(my_list)-1):\n",
        "        # we position min_index at the eginning of the list\n",
        "        min_index = i\n",
        "        # we compare min_index will all the other items in the list, and if an element is smaller, it becomes min_index\n",
        "        for j in range(i+1, len(my_list)):\n",
        "            if my_list[j] < my_list[min_index]:\n",
        "                min_index = j\n",
        "        # if indeed min_index have changed, we swap it with the item at index i\n",
        "        if i != min_index:\n",
        "            temp = my_list[i]\n",
        "            my_list[i] = my_list[min_index]\n",
        "            my_list[min_index] = temp\n",
        "    return my_list"
      ],
      "metadata": {
        "id": "vY0F83TD6ISt"
      },
      "execution_count": null,
      "outputs": []
    },
    {
      "cell_type": "code",
      "source": [
        "arr = [3,5,2,7,6,8,12,40,21]\n",
        "selection_sort(arr)"
      ],
      "metadata": {
        "colab": {
          "base_uri": "https://localhost:8080/"
        },
        "id": "HHZZeGbz6I8V",
        "outputId": "d4d19151-3bf9-4b48-e6fe-1c1ce6fe5e9a"
      },
      "execution_count": null,
      "outputs": [
        {
          "output_type": "execute_result",
          "data": {
            "text/plain": [
              "[2, 3, 5, 6, 7, 8, 12, 21, 40]"
            ]
          },
          "metadata": {},
          "execution_count": 58
        }
      ]
    },
    {
      "cell_type": "code",
      "source": [
        "arr"
      ],
      "metadata": {
        "colab": {
          "base_uri": "https://localhost:8080/"
        },
        "id": "HWw6_MaT6LWt",
        "outputId": "122423c1-d243-4451-cfcf-b651742fb72d"
      },
      "execution_count": null,
      "outputs": [
        {
          "output_type": "execute_result",
          "data": {
            "text/plain": [
              "[2, 3, 5, 6, 7, 8, 12, 21, 40]"
            ]
          },
          "metadata": {},
          "execution_count": 6
        }
      ]
    },
    {
      "cell_type": "markdown",
      "source": [
        "## 3. Insertion Sort\n",
        "\n",
        "Insertion Sort builds the final sorted array (or list) one item at a time."
      ],
      "metadata": {
        "id": "ydDzgW1b6UTN"
      }
    },
    {
      "cell_type": "code",
      "source": [
        "def insertion_sort(my_list):\n",
        "    \n",
        "    # For every index in array (but we start at index 1, because we consider it sorted)\n",
        "    for i in range(1, len(my_list)):\n",
        "        # we hold the current value in temp and we compare it to the item before it\n",
        "        temp = my_list[i]\n",
        "        j = i-1\n",
        "        while temp < my_list[j] and j > -1:\n",
        "            my_list[j+1] = my_list[j] \n",
        "            my_list[j] = temp\n",
        "            j -= 1\n",
        "    return my_list"
      ],
      "metadata": {
        "id": "AOQHvo6T7TWm"
      },
      "execution_count": null,
      "outputs": []
    },
    {
      "cell_type": "code",
      "source": [
        "\n",
        "arr =[3,5,4,6,8,1,2,12,41,25]\n",
        "insertion_sort(arr)"
      ],
      "metadata": {
        "id": "bQdak-X57ZU_"
      },
      "execution_count": null,
      "outputs": []
    },
    {
      "cell_type": "code",
      "source": [
        "arr"
      ],
      "metadata": {
        "id": "krHiCIhN7Zwe"
      },
      "execution_count": null,
      "outputs": []
    },
    {
      "cell_type": "markdown",
      "source": [
        "**Exercise**\n",
        "\n",
        "Compute the running median of a sequence of numbers. That is, given a list of numbers, print out the median of the list so far on each new element.\n",
        "\n",
        "Recall that the median of an even-numbered list is the average of the two middle numbers in a *sorted list*.\n",
        "\n",
        "For example, given the sequence ```[2, 1, 5, 7, 2, 0, 5]```, your algorithm should print out:\n",
        "\n",
        "```\n",
        "2\n",
        "1.5\n",
        "2\n",
        "3.5\n",
        "2\n",
        "2\n",
        "2\n",
        "```"
      ],
      "metadata": {
        "id": "yEkKjMvcF5F9"
      }
    },
    {
      "cell_type": "code",
      "source": [
        "def place_to_insert(array, key):\n",
        "    index = 0\n",
        "    for i in array:\n",
        "        if i > key:\n",
        "            break\n",
        "        else:\n",
        "            index += 1\n",
        "    return index"
      ],
      "metadata": {
        "id": "ODUzWnlTGFCk"
      },
      "execution_count": null,
      "outputs": []
    },
    {
      "cell_type": "code",
      "source": [
        "array = [2, 1, 5, 7, 2, 0, 5]"
      ],
      "metadata": {
        "id": "7bDH7pDbhNwn"
      },
      "execution_count": null,
      "outputs": []
    },
    {
      "cell_type": "code",
      "source": [
        "print(place_to_insert(array, 100))"
      ],
      "metadata": {
        "colab": {
          "base_uri": "https://localhost:8080/"
        },
        "id": "klm7oxGJhH76",
        "outputId": "864f8e29-a544-4784-95bd-b4780ced480d"
      },
      "execution_count": null,
      "outputs": [
        {
          "output_type": "stream",
          "name": "stdout",
          "text": [
            "7\n"
          ]
        }
      ]
    },
    {
      "cell_type": "code",
      "source": [
        "def insert_to_sorted(array, key):\n",
        "    index = place_to_insert(array, key)\n",
        "    return array[0:index]+[key]+array[index:]"
      ],
      "metadata": {
        "id": "no7rK6-gGHJ0"
      },
      "execution_count": null,
      "outputs": []
    },
    {
      "cell_type": "code",
      "source": [
        "print(insert_to_sorted(array, 6))"
      ],
      "metadata": {
        "colab": {
          "base_uri": "https://localhost:8080/"
        },
        "id": "7T0eqilXi9Sv",
        "outputId": "a2e0e89d-c657-4d9e-d4be-7961829859d7"
      },
      "execution_count": null,
      "outputs": [
        {
          "output_type": "stream",
          "name": "stdout",
          "text": [
            "[2, 1, 5, 6, 7, 2, 0, 5]\n"
          ]
        }
      ]
    },
    {
      "cell_type": "code",
      "source": [
        "stream = []\n",
        "count = 0\n",
        "while(True):\n",
        "    i = int(input())\n",
        "    count += 1\n",
        "    stream = insert_to_sorted(stream, i)\n",
        "    if count % 2 == 1:\n",
        "        print(f\"Median of {stream} : {stream[(count)//2]}\")\n",
        "    else:\n",
        "        i1 = count//2\n",
        "        i2 = (count//2) - 1\n",
        "        print(f\"Median of {stream} : {(stream[i1] + stream[i2])/2}\")"
      ],
      "metadata": {
        "colab": {
          "base_uri": "https://localhost:8080/",
          "height": 537
        },
        "id": "Ij_gxckXGKpk",
        "outputId": "bb00babd-230a-47b1-b880-838852d0627f"
      },
      "execution_count": null,
      "outputs": [
        {
          "output_type": "error",
          "ename": "KeyboardInterrupt",
          "evalue": "ignored",
          "traceback": [
            "\u001b[0;31m---------------------------------------------------------------------------\u001b[0m",
            "\u001b[0;31mKeyboardInterrupt\u001b[0m                         Traceback (most recent call last)",
            "\u001b[0;32m/usr/local/lib/python3.7/dist-packages/ipykernel/kernelbase.py\u001b[0m in \u001b[0;36m_input_request\u001b[0;34m(self, prompt, ident, parent, password)\u001b[0m\n\u001b[1;32m    728\u001b[0m             \u001b[0;32mtry\u001b[0m\u001b[0;34m:\u001b[0m\u001b[0;34m\u001b[0m\u001b[0;34m\u001b[0m\u001b[0m\n\u001b[0;32m--> 729\u001b[0;31m                 \u001b[0mident\u001b[0m\u001b[0;34m,\u001b[0m \u001b[0mreply\u001b[0m \u001b[0;34m=\u001b[0m \u001b[0mself\u001b[0m\u001b[0;34m.\u001b[0m\u001b[0msession\u001b[0m\u001b[0;34m.\u001b[0m\u001b[0mrecv\u001b[0m\u001b[0;34m(\u001b[0m\u001b[0mself\u001b[0m\u001b[0;34m.\u001b[0m\u001b[0mstdin_socket\u001b[0m\u001b[0;34m,\u001b[0m \u001b[0;36m0\u001b[0m\u001b[0;34m)\u001b[0m\u001b[0;34m\u001b[0m\u001b[0;34m\u001b[0m\u001b[0m\n\u001b[0m\u001b[1;32m    730\u001b[0m             \u001b[0;32mexcept\u001b[0m \u001b[0mException\u001b[0m\u001b[0;34m:\u001b[0m\u001b[0;34m\u001b[0m\u001b[0;34m\u001b[0m\u001b[0m\n",
            "\u001b[0;32m/usr/local/lib/python3.7/dist-packages/jupyter_client/session.py\u001b[0m in \u001b[0;36mrecv\u001b[0;34m(self, socket, mode, content, copy)\u001b[0m\n\u001b[1;32m    802\u001b[0m         \u001b[0;32mtry\u001b[0m\u001b[0;34m:\u001b[0m\u001b[0;34m\u001b[0m\u001b[0;34m\u001b[0m\u001b[0m\n\u001b[0;32m--> 803\u001b[0;31m             \u001b[0mmsg_list\u001b[0m \u001b[0;34m=\u001b[0m \u001b[0msocket\u001b[0m\u001b[0;34m.\u001b[0m\u001b[0mrecv_multipart\u001b[0m\u001b[0;34m(\u001b[0m\u001b[0mmode\u001b[0m\u001b[0;34m,\u001b[0m \u001b[0mcopy\u001b[0m\u001b[0;34m=\u001b[0m\u001b[0mcopy\u001b[0m\u001b[0;34m)\u001b[0m\u001b[0;34m\u001b[0m\u001b[0;34m\u001b[0m\u001b[0m\n\u001b[0m\u001b[1;32m    804\u001b[0m         \u001b[0;32mexcept\u001b[0m \u001b[0mzmq\u001b[0m\u001b[0;34m.\u001b[0m\u001b[0mZMQError\u001b[0m \u001b[0;32mas\u001b[0m \u001b[0me\u001b[0m\u001b[0;34m:\u001b[0m\u001b[0;34m\u001b[0m\u001b[0;34m\u001b[0m\u001b[0m\n",
            "\u001b[0;32m/usr/local/lib/python3.7/dist-packages/zmq/sugar/socket.py\u001b[0m in \u001b[0;36mrecv_multipart\u001b[0;34m(self, flags, copy, track)\u001b[0m\n\u001b[1;32m    624\u001b[0m         \"\"\"\n\u001b[0;32m--> 625\u001b[0;31m         \u001b[0mparts\u001b[0m \u001b[0;34m=\u001b[0m \u001b[0;34m[\u001b[0m\u001b[0mself\u001b[0m\u001b[0;34m.\u001b[0m\u001b[0mrecv\u001b[0m\u001b[0;34m(\u001b[0m\u001b[0mflags\u001b[0m\u001b[0;34m,\u001b[0m \u001b[0mcopy\u001b[0m\u001b[0;34m=\u001b[0m\u001b[0mcopy\u001b[0m\u001b[0;34m,\u001b[0m \u001b[0mtrack\u001b[0m\u001b[0;34m=\u001b[0m\u001b[0mtrack\u001b[0m\u001b[0;34m)\u001b[0m\u001b[0;34m]\u001b[0m\u001b[0;34m\u001b[0m\u001b[0;34m\u001b[0m\u001b[0m\n\u001b[0m\u001b[1;32m    626\u001b[0m         \u001b[0;31m# have first part already, only loop while more to receive\u001b[0m\u001b[0;34m\u001b[0m\u001b[0;34m\u001b[0m\u001b[0;34m\u001b[0m\u001b[0m\n",
            "\u001b[0;32mzmq/backend/cython/socket.pyx\u001b[0m in \u001b[0;36mzmq.backend.cython.socket.Socket.recv\u001b[0;34m()\u001b[0m\n",
            "\u001b[0;32mzmq/backend/cython/socket.pyx\u001b[0m in \u001b[0;36mzmq.backend.cython.socket.Socket.recv\u001b[0;34m()\u001b[0m\n",
            "\u001b[0;32mzmq/backend/cython/socket.pyx\u001b[0m in \u001b[0;36mzmq.backend.cython.socket._recv_copy\u001b[0;34m()\u001b[0m\n",
            "\u001b[0;32m/usr/local/lib/python3.7/dist-packages/zmq/backend/cython/checkrc.pxd\u001b[0m in \u001b[0;36mzmq.backend.cython.checkrc._check_rc\u001b[0;34m()\u001b[0m\n",
            "\u001b[0;31mKeyboardInterrupt\u001b[0m: ",
            "\nDuring handling of the above exception, another exception occurred:\n",
            "\u001b[0;31mKeyboardInterrupt\u001b[0m                         Traceback (most recent call last)",
            "\u001b[0;32m<ipython-input-12-311497ac317f>\u001b[0m in \u001b[0;36m<module>\u001b[0;34m()\u001b[0m\n\u001b[1;32m      2\u001b[0m \u001b[0mcount\u001b[0m \u001b[0;34m=\u001b[0m \u001b[0;36m0\u001b[0m\u001b[0;34m\u001b[0m\u001b[0;34m\u001b[0m\u001b[0m\n\u001b[1;32m      3\u001b[0m \u001b[0;32mwhile\u001b[0m\u001b[0;34m(\u001b[0m\u001b[0;32mTrue\u001b[0m\u001b[0;34m)\u001b[0m\u001b[0;34m:\u001b[0m\u001b[0;34m\u001b[0m\u001b[0;34m\u001b[0m\u001b[0m\n\u001b[0;32m----> 4\u001b[0;31m     \u001b[0mi\u001b[0m \u001b[0;34m=\u001b[0m \u001b[0mint\u001b[0m\u001b[0;34m(\u001b[0m\u001b[0minput\u001b[0m\u001b[0;34m(\u001b[0m\u001b[0;34m)\u001b[0m\u001b[0;34m)\u001b[0m\u001b[0;34m\u001b[0m\u001b[0;34m\u001b[0m\u001b[0m\n\u001b[0m\u001b[1;32m      5\u001b[0m     \u001b[0mcount\u001b[0m \u001b[0;34m+=\u001b[0m \u001b[0;36m1\u001b[0m\u001b[0;34m\u001b[0m\u001b[0;34m\u001b[0m\u001b[0m\n\u001b[1;32m      6\u001b[0m     \u001b[0mstream\u001b[0m \u001b[0;34m=\u001b[0m \u001b[0minsert_to_sorted\u001b[0m\u001b[0;34m(\u001b[0m\u001b[0mstream\u001b[0m\u001b[0;34m,\u001b[0m \u001b[0mi\u001b[0m\u001b[0;34m)\u001b[0m\u001b[0;34m\u001b[0m\u001b[0;34m\u001b[0m\u001b[0m\n",
            "\u001b[0;32m/usr/local/lib/python3.7/dist-packages/ipykernel/kernelbase.py\u001b[0m in \u001b[0;36mraw_input\u001b[0;34m(self, prompt)\u001b[0m\n\u001b[1;32m    702\u001b[0m             \u001b[0mself\u001b[0m\u001b[0;34m.\u001b[0m\u001b[0m_parent_ident\u001b[0m\u001b[0;34m,\u001b[0m\u001b[0;34m\u001b[0m\u001b[0;34m\u001b[0m\u001b[0m\n\u001b[1;32m    703\u001b[0m             \u001b[0mself\u001b[0m\u001b[0;34m.\u001b[0m\u001b[0m_parent_header\u001b[0m\u001b[0;34m,\u001b[0m\u001b[0;34m\u001b[0m\u001b[0;34m\u001b[0m\u001b[0m\n\u001b[0;32m--> 704\u001b[0;31m             \u001b[0mpassword\u001b[0m\u001b[0;34m=\u001b[0m\u001b[0;32mFalse\u001b[0m\u001b[0;34m,\u001b[0m\u001b[0;34m\u001b[0m\u001b[0;34m\u001b[0m\u001b[0m\n\u001b[0m\u001b[1;32m    705\u001b[0m         )\n\u001b[1;32m    706\u001b[0m \u001b[0;34m\u001b[0m\u001b[0m\n",
            "\u001b[0;32m/usr/local/lib/python3.7/dist-packages/ipykernel/kernelbase.py\u001b[0m in \u001b[0;36m_input_request\u001b[0;34m(self, prompt, ident, parent, password)\u001b[0m\n\u001b[1;32m    732\u001b[0m             \u001b[0;32mexcept\u001b[0m \u001b[0mKeyboardInterrupt\u001b[0m\u001b[0;34m:\u001b[0m\u001b[0;34m\u001b[0m\u001b[0;34m\u001b[0m\u001b[0m\n\u001b[1;32m    733\u001b[0m                 \u001b[0;31m# re-raise KeyboardInterrupt, to truncate traceback\u001b[0m\u001b[0;34m\u001b[0m\u001b[0;34m\u001b[0m\u001b[0;34m\u001b[0m\u001b[0m\n\u001b[0;32m--> 734\u001b[0;31m                 \u001b[0;32mraise\u001b[0m \u001b[0mKeyboardInterrupt\u001b[0m\u001b[0;34m\u001b[0m\u001b[0;34m\u001b[0m\u001b[0m\n\u001b[0m\u001b[1;32m    735\u001b[0m             \u001b[0;32melse\u001b[0m\u001b[0;34m:\u001b[0m\u001b[0;34m\u001b[0m\u001b[0;34m\u001b[0m\u001b[0m\n\u001b[1;32m    736\u001b[0m                 \u001b[0;32mbreak\u001b[0m\u001b[0;34m\u001b[0m\u001b[0;34m\u001b[0m\u001b[0m\n",
            "\u001b[0;31mKeyboardInterrupt\u001b[0m: "
          ]
        }
      ]
    },
    {
      "cell_type": "markdown",
      "source": [
        "## 4. Quick Sort\n",
        "\n",
        "A quick sort first selects a value, which is called the *pivot* value. \n",
        "\n",
        "Although there are many different ways to choose the pivot value, we will simply use the first item in the list. \n",
        "\n",
        "The role of the pivot value is to assist with splitting the list. The actual position where the pivot value belongs in the final sorted list, commonly called the split point, will be used to divide the list for subsequent calls to the quick sort."
      ],
      "metadata": {
        "id": "s-mSWnZE-j7L"
      }
    },
    {
      "cell_type": "code",
      "source": [
        "def partition(unsorted_array, first_index, last_index):\n",
        "  pivot=unsorted_array[first_index]  # here we store the value of the pivot\n",
        "  pivot_index=first_index\n",
        "  index_of_last_element=last_index\n",
        "  i=first_index+1 #greater than pivot index - my left pointer\n",
        "  j=index_of_last_element #less than pivot index - my right pointer\n",
        "  while True:\n",
        "    while unsorted_array[i]<pivot and i< last_index:\n",
        "      i+=1\n",
        "    while unsorted_array[j] > pivot and j>= first_index:\n",
        "      j-=1\n",
        "    if i < j:\n",
        "       # we swap i and j using temp\n",
        "       temp = unsorted_array[i]\n",
        "       unsorted_array[i] = unsorted_array[j]\n",
        "       unsorted_array[j] = temp\n",
        "    else:\n",
        "     break\n",
        "  unsorted_array[pivot_index] = unsorted_array[j]\n",
        "  unsorted_array[j] = pivot\n",
        "  return j"
      ],
      "metadata": {
        "id": "X6oSeBW-nMhT"
      },
      "execution_count": null,
      "outputs": []
    },
    {
      "cell_type": "code",
      "source": [
        "def quick_sort(unsorted_array, first, last):\n",
        "    if last - first <= 0:\n",
        "        return\n",
        "    else:\n",
        "        # the partition point is the point in the unsorted array where all the elements to the left are less than the pivot value, \n",
        "        # and all elements to its right are greater than it.\n",
        "        partition_point = partition(unsorted_array, first, last) \n",
        "        quick_sort(unsorted_array, first, partition_point-1)\n",
        "        quick_sort(unsorted_array, partition_point+1, last)"
      ],
      "metadata": {
        "id": "4GiCYFeinNfC"
      },
      "execution_count": null,
      "outputs": []
    },
    {
      "cell_type": "code",
      "source": [
        "#elements = [11,9,29,7,2,15,28]\n",
        "elements = [\"mona\", \"dhaval\", \"aamir\", \"tina\", \"chang\"]\n",
        "quick_sort(elements, 0, len(elements)-1)\n",
        "print(elements)"
      ],
      "metadata": {
        "colab": {
          "base_uri": "https://localhost:8080/"
        },
        "id": "0knGTvAc-4CS",
        "outputId": "1be0fe68-0b3a-4d01-d14d-c0402254cff7"
      },
      "execution_count": null,
      "outputs": [
        {
          "output_type": "stream",
          "name": "stdout",
          "text": [
            "['aamir', 'chang', 'dhaval', 'mona', 'tina']\n"
          ]
        }
      ]
    },
    {
      "cell_type": "code",
      "source": [
        "tests = [\n",
        "    [11,9,29,7,2,15,28],\n",
        "    [3, 7, 9, 11],\n",
        "    [25, 22, 21, 10],\n",
        "    [29, 15, 28],\n",
        "    [],\n",
        "    [6]\n",
        "]\n",
        "\n",
        "for elements in tests:\n",
        "    quick_sort(elements, 0, len(elements)-1)\n",
        "    print(f'sorted array: {elements}')"
      ],
      "metadata": {
        "colab": {
          "base_uri": "https://localhost:8080/"
        },
        "id": "S9pNl9kQ-4t5",
        "outputId": "3b14c3e4-4ac0-4f05-c95d-335a590d4418"
      },
      "execution_count": null,
      "outputs": [
        {
          "output_type": "stream",
          "name": "stdout",
          "text": [
            "sorted array: [2, 7, 9, 11, 15, 28, 29]\n",
            "sorted array: [3, 7, 9, 11]\n",
            "sorted array: [10, 21, 22, 25]\n",
            "sorted array: [15, 28, 29]\n",
            "sorted array: []\n",
            "sorted array: [6]\n"
          ]
        }
      ]
    },
    {
      "cell_type": "markdown",
      "source": [
        "## 5. Merge Sort\n",
        "\n",
        "Merge sort is a recursive algorithm that continually *splits the list in half*. \n",
        "\n",
        "If the list is empty or has one item, it is sorted by definition (the base case). \n",
        "\n",
        "If the list has more than one item, we split the list and recursively invoke a merge sort on both halves. \n",
        "\n",
        "Once the two halves are sorted, the fundamental operation, called a *merge*, is performed. \n",
        "\n",
        "**Merging** is the process of taking two smaller sorted lists and combining them together into a single, sorted, new list.\n",
        "\n",
        "Merge sort uses a divide and conquer strategy:\n",
        "\n",
        "1. Divide the sequence into two halves,\n",
        "\n",
        "2. Sort the halves, and\n",
        "\n",
        "3. Merge the sorted sub-sequences into a single sequence."
      ],
      "metadata": {
        "id": "DVG7b4Dx_5AJ"
      }
    },
    {
      "cell_type": "code",
      "source": [
        "def merge(list1, list2):\n",
        "  combined = []\n",
        "  i = 0\n",
        "  j = 0\n",
        "  while i<len(list1) and j<len(list2):\n",
        "    if list1[i] < list2[j]:\n",
        "      combined.append(list1[i])\n",
        "      i+=1\n",
        "    else:\n",
        "      combined.append(list2[j])\n",
        "      j+=1\n",
        "\n",
        "  while i < len(list1):\n",
        "    combined.append(list1[i])\n",
        "    i+=1\n",
        "\n",
        "  while j < len(list2):\n",
        "    combined.append(list2[j])\n",
        "    j+=1\n",
        "\n",
        "  #print(combined, \"~~~~~~~~ merge iterated once ~~~~~~~\")\n",
        "  return combined  \n"
      ],
      "metadata": {
        "id": "5E1wlw3a_-ER"
      },
      "execution_count": null,
      "outputs": []
    },
    {
      "cell_type": "code",
      "source": [
        "def merge_sort(my_list):\n",
        "  if len(my_list) == 1:\n",
        "    return my_list\n",
        "\n",
        "  mid = int(len(my_list)//2)\n",
        "\n",
        "  #print(\"middle: \", mid)\n",
        "  left = my_list[:mid]\n",
        "  #print(\"left part of the list: \", left)\n",
        "  right = my_list[mid:]\n",
        "  #print(\"right part of the list: \", right)\n",
        "\n",
        "  #print(\"---------- merge sort iterated once ---------\")\n",
        "  \n",
        "  try:\n",
        "    return merge(merge_sort(left), merge_sort(right))\n",
        "  except:\n",
        "    return print(\"Can't sort\")"
      ],
      "metadata": {
        "id": "RvV51ihTGpdl"
      },
      "execution_count": null,
      "outputs": []
    },
    {
      "cell_type": "code",
      "source": [
        "arr = [11,2,5,4,7,6,8,1,23]"
      ],
      "metadata": {
        "id": "wuqTOxCoAAM5"
      },
      "execution_count": null,
      "outputs": []
    },
    {
      "cell_type": "code",
      "source": [
        "merge_sort(arr)"
      ],
      "metadata": {
        "colab": {
          "base_uri": "https://localhost:8080/"
        },
        "id": "d1Ec7CjkAB_h",
        "outputId": "8a7a3ba2-210e-4ac9-dac7-2c3eda5f251b"
      },
      "execution_count": null,
      "outputs": [
        {
          "output_type": "execute_result",
          "data": {
            "text/plain": [
              "[1, 2, 4, 5, 6, 7, 8, 11, 23]"
            ]
          },
          "metadata": {},
          "execution_count": 26
        }
      ]
    },
    {
      "cell_type": "code",
      "source": [
        "test_cases = [\n",
        "        [10, 3, 15, 7, 8, 23, 98, 29],\n",
        "        [3],\n",
        "        [9,8,7,2],\n",
        "        [1,2,3,4,5]\n",
        "    ]"
      ],
      "metadata": {
        "id": "cFb36KOKAK9y"
      },
      "execution_count": null,
      "outputs": []
    },
    {
      "cell_type": "code",
      "source": [
        "for arr in test_cases:\n",
        "  print(merge_sort(arr))"
      ],
      "metadata": {
        "colab": {
          "base_uri": "https://localhost:8080/"
        },
        "id": "GIs8CAzzALmx",
        "outputId": "34486ecd-078f-4ebd-d3f5-f55d99c49e93"
      },
      "execution_count": null,
      "outputs": [
        {
          "output_type": "stream",
          "name": "stdout",
          "text": [
            "[3, 7, 8, 10, 15, 23, 29, 98]\n",
            "[3]\n",
            "[2, 7, 8, 9]\n",
            "[1, 2, 3, 4, 5]\n"
          ]
        }
      ]
    },
    {
      "cell_type": "markdown",
      "source": [
        "# Task\n",
        "\n",
        "1. From all these 5 sorting methods, which one is the more efficient, and why?\n",
        "2. Create a function that will sort both numbers and strings whithin a list, using one of these 5 sorting methods (whatever you wish)."
      ],
      "metadata": {
        "id": "WUItWvIOXPlf"
      }
    }
  ]
}